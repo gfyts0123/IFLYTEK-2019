{
 "cells": [
  {
   "cell_type": "code",
   "execution_count": 1,
   "metadata": {},
   "outputs": [],
   "source": [
    "import numpy as np\n",
    "import pandas as pd\n",
    "import seaborn as sns\n",
    "import matplotlib.pyplot as plt\n",
    "pd.set_option('display.max_columns', 1000)\n",
    "pd.set_option('display.max_rows', 1000)\n",
    "pd.set_option('display.max_colwidth', 1000)\n",
    "import warnings\n",
    "import gc\n",
    "from tqdm import tqdm\n",
    "from joblib import Parallel, delayed\n",
    "from datetime import timedelta, datetime\n",
    "warnings.filterwarnings('ignore')\n",
    "\n",
    "txt_feature_path = 'feature/txt/'\n",
    "feature_path = 'feature/'\n",
    "model_path = 'model/'\n",
    "submit_path = 'submit/'\n",
    "#stacking feature data\n",
    "metafeature_path = 'meta-feature/'\n",
    "pic_path = 'pic/'\n",
    "train_data_1_len = 1000000\n",
    "train_data_2_len = 5000000\n",
    "test_data_len = 1000000\n",
    "\n",
    "def reduce_mem_usage(data):\n",
    "    numerics = ['int16', 'int32', 'int64', 'float16', 'float32', 'float64']\n",
    "    start_mem = data.memory_usage().sum() / 1024**2    \n",
    "    for col in data.columns:\n",
    "        col_type = data[col].dtypes\n",
    "        if col_type in numerics:\n",
    "            c_min = data[col].min()\n",
    "            c_max = data[col].max()\n",
    "            if str(col_type)[:3] == 'int':\n",
    "                if c_min > np.iinfo(np.int8).min and c_max < np.iinfo(np.int8).max:\n",
    "                    data[col] = data[col].astype(np.int8)\n",
    "                elif c_min > np.iinfo(np.int16).min and c_max < np.iinfo(np.int16).max:\n",
    "                    data[col] = data[col].astype(np.int16)\n",
    "                elif c_min > np.iinfo(np.int32).min and c_max < np.iinfo(np.int32).max:\n",
    "                    data[col] = data[col].astype(np.int32)\n",
    "                elif c_min > np.iinfo(np.int64).min and c_max < np.iinfo(np.int64).max:\n",
    "                    data[col] = data[col].astype(np.int64)  \n",
    "            else:\n",
    "                if c_min > np.finfo(np.float16).min and c_max < np.finfo(np.float16).max:\n",
    "                    data[col] = data[col].astype(np.float16)\n",
    "                elif c_min > np.finfo(np.float32).min and c_max < np.finfo(np.float32).max:\n",
    "                    data[col] = data[col].astype(np.float32)\n",
    "                else:\n",
    "                    data[col] = data[col].astype(np.float64)    \n",
    "    end_mem = data.memory_usage().sum() / 1024**2\n",
    "    print('Mem. usage decreased to {:5.2f} Mb ({:.1f}% reduction)'.format(end_mem, 100 * (start_mem - end_mem) / start_mem))\n",
    "    return data"
   ]
  },
  {
   "cell_type": "code",
   "execution_count": null,
   "metadata": {},
   "outputs": [],
   "source": [
    "train_data_1 = pd.read_csv(txt_feature_path+'round1_train.txt','\\t')\n",
    "train_data_2 = pd.read_csv(txt_feature_path+'round2_train.txt','\\t')\n",
    "test_A_data = pd.read_csv(txt_feature_path+'round2_test_A.txt','\\t')\n",
    "test_B_data = pd.read_csv(txt_feature_path+'round2_test_B.txt','\\t')\n",
    "data = pd.concat([train_data_1,train_data_2,test_A_data,test_B_data],axis=0,sort=False).reset_index(drop=True)\n",
    "del train_data_1,train_data_2,test_A_data,test_B_data\n",
    "gc.collect()"
   ]
  },
  {
   "cell_type": "code",
   "execution_count": 2,
   "metadata": {
    "scrolled": true
   },
   "outputs": [
    {
     "name": "stdout",
     "output_type": "stream",
     "text": [
      "Wall time: 3.23 s\n",
      "Mem. usage decreased to 1037.60 Mb (57.0% reduction)\n",
      "Wall time: 7.24 s\n"
     ]
    },
    {
     "data": {
      "text/plain": [
       "0"
      ]
     },
     "execution_count": 2,
     "metadata": {},
     "output_type": "execute_result"
    }
   ],
   "source": [
    "%time data = pd.read_feather(feature_path+'combine.bin')\n",
    "%time data = reduce_mem_usage(data)\n",
    "gc.collect()"
   ]
  },
  {
   "cell_type": "code",
   "execution_count": 3,
   "metadata": {
    "scrolled": true
   },
   "outputs": [
    {
     "data": {
      "text/plain": [
       "empty_count             float16\n",
       "make                      int16\n",
       "model                     int16\n",
       "big_model                 int16\n",
       "model_equal_make           int8\n",
       "ip                        int32\n",
       "ip1                       int16\n",
       "reqrealip                 int32\n",
       "ip2                       int16\n",
       "ip3                       int32\n",
       "reqrealip1                 int8\n",
       "reqrealip2                int16\n",
       "reqrealip3                int16\n",
       "ip_equal                   int8\n",
       "adidmd5                   int32\n",
       "imeimd5                   int32\n",
       "macmd5                    int32\n",
       "adunitshowid              int16\n",
       "mediashowid               int16\n",
       "city                      int16\n",
       "province                   int8\n",
       "h                       float16\n",
       "w                       float32\n",
       "ppi                     float16\n",
       "h_w_ratio               float16\n",
       "screen_area             float32\n",
       "size                    float16\n",
       "orientation                int8\n",
       "creative_dpi              int16\n",
       "px                      float16\n",
       "sid                      object\n",
       "label                   float16\n",
       "imeimd5_count             int32\n",
       "macmd5_count              int32\n",
       "adidmd5_count             int32\n",
       "ip_count                  int16\n",
       "reqrealip_count           int32\n",
       "ip3_count                 int16\n",
       "make_count                int32\n",
       "model_count               int32\n",
       "apptype_count             int32\n",
       "big_model_count           int32\n",
       "dvctype                    int8\n",
       "apptype                    int8\n",
       "carrier                    int8\n",
       "lan                        int8\n",
       "ntt                        int8\n",
       "new_ntt                    int8\n",
       "osv                       int16\n",
       "osv_summary                int8\n",
       "ver                       int16\n",
       "pkgname                   int16\n",
       "hour                       int8\n",
       "minute                    int16\n",
       "period                     int8\n",
       "nginxtime-begin_time    float16\n",
       "dtype: object"
      ]
     },
     "execution_count": 3,
     "metadata": {},
     "output_type": "execute_result"
    }
   ],
   "source": [
    "data.dtypes"
   ]
  },
  {
   "cell_type": "code",
   "execution_count": 4,
   "metadata": {},
   "outputs": [],
   "source": [
    "def df_unique_num(df):\n",
    "    '''\n",
    "    获得每列特征种类数\n",
    "    '''\n",
    "    num = []\n",
    "    for col in df.columns:\n",
    "        num.append(len(df[col].unique()))\n",
    "    return pd.DataFrame(num,index=df.columns,columns=['unique_num']).T\n",
    "\n",
    "def df_null_num(df):\n",
    "    nan_num = []\n",
    "    empty_num = []\n",
    "    zero_num = []\n",
    "    col_ratio = []\n",
    "    num = [nan_num,empty_num,zero_num,col_ratio]\n",
    "    for col in df.columns:\n",
    "        nan_num.append(len(df[col][df[col].isnull()]))\n",
    "        empty_num.append(len(df[col][df[col]=='empty']))\n",
    "        zero_num.append(len(df[col][(df[col]==0.0)|(df[col]==-1.0)]))\n",
    "        col_ratio.append(len(df))\n",
    "    for i in range(len(col_ratio)):\n",
    "        col_ratio[i] = str((nan_num[i] + empty_num[i] + zero_num[i])/col_ratio[i] * 100) + \"%\"\n",
    "    return pd.DataFrame(num,columns=df.columns,index=['nan_num','empty_num','zero_num','col_ratio'])\n",
    "\n",
    "features = [col for col in data.columns if col not in ['sid','label']]"
   ]
  },
  {
   "cell_type": "code",
   "execution_count": null,
   "metadata": {
    "scrolled": false
   },
   "outputs": [],
   "source": [
    "ax = train_data[1000000:].label.value_counts().plot.bar()"
   ]
  },
  {
   "cell_type": "code",
   "execution_count": null,
   "metadata": {},
   "outputs": [],
   "source": [
    "train_data[1000000:].label.value_counts()"
   ]
  },
  {
   "cell_type": "code",
   "execution_count": null,
   "metadata": {},
   "outputs": [],
   "source": [
    "train_data[1000000:].label.value_counts()[0]/train_data[1000000:].shape[0]"
   ]
  },
  {
   "cell_type": "code",
   "execution_count": null,
   "metadata": {},
   "outputs": [],
   "source": [
    "data.UID_imeimd5_nunique"
   ]
  },
  {
   "cell_type": "code",
   "execution_count": null,
   "metadata": {},
   "outputs": [],
   "source": [
    "data.UID_macmd5_nunique"
   ]
  },
  {
   "cell_type": "code",
   "execution_count": 5,
   "metadata": {
    "scrolled": true
   },
   "outputs": [
    {
     "name": "stdout",
     "output_type": "stream",
     "text": [
      "Wall time: 6.99 s\n"
     ]
    },
    {
     "data": {
      "text/html": [
       "<div>\n",
       "<style scoped>\n",
       "    .dataframe tbody tr th:only-of-type {\n",
       "        vertical-align: middle;\n",
       "    }\n",
       "\n",
       "    .dataframe tbody tr th {\n",
       "        vertical-align: top;\n",
       "    }\n",
       "\n",
       "    .dataframe thead th {\n",
       "        text-align: right;\n",
       "    }\n",
       "</style>\n",
       "<table border=\"1\" class=\"dataframe\">\n",
       "  <thead>\n",
       "    <tr style=\"text-align: right;\">\n",
       "      <th></th>\n",
       "      <th>unique_num</th>\n",
       "    </tr>\n",
       "  </thead>\n",
       "  <tbody>\n",
       "    <tr>\n",
       "      <th>empty_count</th>\n",
       "      <td>17</td>\n",
       "    </tr>\n",
       "    <tr>\n",
       "      <th>make</th>\n",
       "      <td>2297</td>\n",
       "    </tr>\n",
       "    <tr>\n",
       "      <th>model</th>\n",
       "      <td>14434</td>\n",
       "    </tr>\n",
       "    <tr>\n",
       "      <th>big_model</th>\n",
       "      <td>10024</td>\n",
       "    </tr>\n",
       "    <tr>\n",
       "      <th>model_equal_make</th>\n",
       "      <td>2</td>\n",
       "    </tr>\n",
       "    <tr>\n",
       "      <th>ip</th>\n",
       "      <td>4561263</td>\n",
       "    </tr>\n",
       "    <tr>\n",
       "      <th>ip1</th>\n",
       "      <td>661</td>\n",
       "    </tr>\n",
       "    <tr>\n",
       "      <th>reqrealip</th>\n",
       "      <td>34764</td>\n",
       "    </tr>\n",
       "    <tr>\n",
       "      <th>ip2</th>\n",
       "      <td>12452</td>\n",
       "    </tr>\n",
       "    <tr>\n",
       "      <th>ip3</th>\n",
       "      <td>414247</td>\n",
       "    </tr>\n",
       "    <tr>\n",
       "      <th>reqrealip1</th>\n",
       "      <td>106</td>\n",
       "    </tr>\n",
       "    <tr>\n",
       "      <th>reqrealip2</th>\n",
       "      <td>3233</td>\n",
       "    </tr>\n",
       "    <tr>\n",
       "      <th>reqrealip3</th>\n",
       "      <td>21836</td>\n",
       "    </tr>\n",
       "    <tr>\n",
       "      <th>ip_equal</th>\n",
       "      <td>2</td>\n",
       "    </tr>\n",
       "    <tr>\n",
       "      <th>adidmd5</th>\n",
       "      <td>3790893</td>\n",
       "    </tr>\n",
       "    <tr>\n",
       "      <th>imeimd5</th>\n",
       "      <td>6201840</td>\n",
       "    </tr>\n",
       "    <tr>\n",
       "      <th>macmd5</th>\n",
       "      <td>2087492</td>\n",
       "    </tr>\n",
       "    <tr>\n",
       "      <th>adunitshowid</th>\n",
       "      <td>965</td>\n",
       "    </tr>\n",
       "    <tr>\n",
       "      <th>mediashowid</th>\n",
       "      <td>356</td>\n",
       "    </tr>\n",
       "    <tr>\n",
       "      <th>city</th>\n",
       "      <td>346</td>\n",
       "    </tr>\n",
       "    <tr>\n",
       "      <th>province</th>\n",
       "      <td>23</td>\n",
       "    </tr>\n",
       "    <tr>\n",
       "      <th>h</th>\n",
       "      <td>2409</td>\n",
       "    </tr>\n",
       "    <tr>\n",
       "      <th>w</th>\n",
       "      <td>3410</td>\n",
       "    </tr>\n",
       "    <tr>\n",
       "      <th>ppi</th>\n",
       "      <td>2664</td>\n",
       "    </tr>\n",
       "    <tr>\n",
       "      <th>h_w_ratio</th>\n",
       "      <td>1540</td>\n",
       "    </tr>\n",
       "    <tr>\n",
       "      <th>screen_area</th>\n",
       "      <td>5900</td>\n",
       "    </tr>\n",
       "    <tr>\n",
       "      <th>size</th>\n",
       "      <td>2586</td>\n",
       "    </tr>\n",
       "    <tr>\n",
       "      <th>orientation</th>\n",
       "      <td>2</td>\n",
       "    </tr>\n",
       "    <tr>\n",
       "      <th>creative_dpi</th>\n",
       "      <td>6663</td>\n",
       "    </tr>\n",
       "    <tr>\n",
       "      <th>px</th>\n",
       "      <td>9226</td>\n",
       "    </tr>\n",
       "    <tr>\n",
       "      <th>imeimd5_count</th>\n",
       "      <td>171</td>\n",
       "    </tr>\n",
       "    <tr>\n",
       "      <th>macmd5_count</th>\n",
       "      <td>70</td>\n",
       "    </tr>\n",
       "    <tr>\n",
       "      <th>adidmd5_count</th>\n",
       "      <td>51</td>\n",
       "    </tr>\n",
       "    <tr>\n",
       "      <th>ip_count</th>\n",
       "      <td>269</td>\n",
       "    </tr>\n",
       "    <tr>\n",
       "      <th>reqrealip_count</th>\n",
       "      <td>839</td>\n",
       "    </tr>\n",
       "    <tr>\n",
       "      <th>ip3_count</th>\n",
       "      <td>1078</td>\n",
       "    </tr>\n",
       "    <tr>\n",
       "      <th>make_count</th>\n",
       "      <td>194</td>\n",
       "    </tr>\n",
       "    <tr>\n",
       "      <th>model_count</th>\n",
       "      <td>1277</td>\n",
       "    </tr>\n",
       "    <tr>\n",
       "      <th>apptype_count</th>\n",
       "      <td>85</td>\n",
       "    </tr>\n",
       "    <tr>\n",
       "      <th>big_model_count</th>\n",
       "      <td>1000</td>\n",
       "    </tr>\n",
       "    <tr>\n",
       "      <th>dvctype</th>\n",
       "      <td>4</td>\n",
       "    </tr>\n",
       "    <tr>\n",
       "      <th>apptype</th>\n",
       "      <td>92</td>\n",
       "    </tr>\n",
       "    <tr>\n",
       "      <th>carrier</th>\n",
       "      <td>5</td>\n",
       "    </tr>\n",
       "    <tr>\n",
       "      <th>lan</th>\n",
       "      <td>56</td>\n",
       "    </tr>\n",
       "    <tr>\n",
       "      <th>ntt</th>\n",
       "      <td>10</td>\n",
       "    </tr>\n",
       "    <tr>\n",
       "      <th>new_ntt</th>\n",
       "      <td>6</td>\n",
       "    </tr>\n",
       "    <tr>\n",
       "      <th>osv</th>\n",
       "      <td>233</td>\n",
       "    </tr>\n",
       "    <tr>\n",
       "      <th>osv_summary</th>\n",
       "      <td>11</td>\n",
       "    </tr>\n",
       "    <tr>\n",
       "      <th>ver</th>\n",
       "      <td>6836</td>\n",
       "    </tr>\n",
       "    <tr>\n",
       "      <th>pkgname</th>\n",
       "      <td>7263</td>\n",
       "    </tr>\n",
       "    <tr>\n",
       "      <th>hour</th>\n",
       "      <td>24</td>\n",
       "    </tr>\n",
       "    <tr>\n",
       "      <th>minute</th>\n",
       "      <td>1440</td>\n",
       "    </tr>\n",
       "    <tr>\n",
       "      <th>period</th>\n",
       "      <td>6</td>\n",
       "    </tr>\n",
       "    <tr>\n",
       "      <th>nginxtime-begin_time</th>\n",
       "      <td>1131</td>\n",
       "    </tr>\n",
       "  </tbody>\n",
       "</table>\n",
       "</div>"
      ],
      "text/plain": [
       "                      unique_num\n",
       "empty_count                   17\n",
       "make                        2297\n",
       "model                      14434\n",
       "big_model                  10024\n",
       "model_equal_make               2\n",
       "ip                       4561263\n",
       "ip1                          661\n",
       "reqrealip                  34764\n",
       "ip2                        12452\n",
       "ip3                       414247\n",
       "reqrealip1                   106\n",
       "reqrealip2                  3233\n",
       "reqrealip3                 21836\n",
       "ip_equal                       2\n",
       "adidmd5                  3790893\n",
       "imeimd5                  6201840\n",
       "macmd5                   2087492\n",
       "adunitshowid                 965\n",
       "mediashowid                  356\n",
       "city                         346\n",
       "province                      23\n",
       "h                           2409\n",
       "w                           3410\n",
       "ppi                         2664\n",
       "h_w_ratio                   1540\n",
       "screen_area                 5900\n",
       "size                        2586\n",
       "orientation                    2\n",
       "creative_dpi                6663\n",
       "px                          9226\n",
       "imeimd5_count                171\n",
       "macmd5_count                  70\n",
       "adidmd5_count                 51\n",
       "ip_count                     269\n",
       "reqrealip_count              839\n",
       "ip3_count                   1078\n",
       "make_count                   194\n",
       "model_count                 1277\n",
       "apptype_count                 85\n",
       "big_model_count             1000\n",
       "dvctype                        4\n",
       "apptype                       92\n",
       "carrier                        5\n",
       "lan                           56\n",
       "ntt                           10\n",
       "new_ntt                        6\n",
       "osv                          233\n",
       "osv_summary                   11\n",
       "ver                         6836\n",
       "pkgname                     7263\n",
       "hour                          24\n",
       "minute                      1440\n",
       "period                         6\n",
       "nginxtime-begin_time        1131"
      ]
     },
     "execution_count": 5,
     "metadata": {},
     "output_type": "execute_result"
    }
   ],
   "source": [
    "%time unique_num_df = df_unique_num(data[features]).T\n",
    "unique_num_df"
   ]
  },
  {
   "cell_type": "code",
   "execution_count": null,
   "metadata": {},
   "outputs": [],
   "source": [
    "%time unique_num_df = df_unique_num(data[features]).T\n",
    "unique_num_df"
   ]
  },
  {
   "cell_type": "code",
   "execution_count": null,
   "metadata": {},
   "outputs": [],
   "source": [
    "%time unique_num_df = df_unique_num(data[5000000:6000000][features]).T\n",
    "unique_num_df"
   ]
  },
  {
   "cell_type": "code",
   "execution_count": null,
   "metadata": {},
   "outputs": [],
   "source": [
    "%time unique_num_df = df_unique_num(data[6000000:][features]).T\n",
    "unique_num_df"
   ]
  },
  {
   "cell_type": "code",
   "execution_count": null,
   "metadata": {
    "scrolled": true
   },
   "outputs": [],
   "source": [
    "%time null_num_df = df_null_num(data[features]).T\n",
    "null_num_df"
   ]
  },
  {
   "cell_type": "code",
   "execution_count": null,
   "metadata": {},
   "outputs": [],
   "source": [
    "ax = data[6000000:].hour.value_counts().plot.bar()"
   ]
  },
  {
   "cell_type": "code",
   "execution_count": null,
   "metadata": {},
   "outputs": [],
   "source": [
    "ax = sns.boxplot(x='dvctype',y='ppi',data=data)"
   ]
  },
  {
   "cell_type": "code",
   "execution_count": null,
   "metadata": {},
   "outputs": [],
   "source": [
    "type(data)"
   ]
  },
  {
   "cell_type": "code",
   "execution_count": 40,
   "metadata": {},
   "outputs": [],
   "source": [
    "def plot_feature_distribution(df1, df2, label1, label2, features):\n",
    "    i=0\n",
    "    sns.set_style('whitegrid')\n",
    "    plt.figure()\n",
    "    #subplots(子图行数,子图列数,figsize=(20,20))\n",
    "    fig, ax = plt.subplots(1,2,figsize=(20,10))\n",
    "    for feature in tqdm(features):\n",
    "        i += 1\n",
    "        if data.dtypes[feature] == np.object:\n",
    "            raise ValueError('Wrong feature type:' + feature)\n",
    "        #subplots(子图行数,子图列数，第几个子图-索引)\n",
    "        plt.subplot(1,2,i)\n",
    "        #hist - 是否显示原始直方图\n",
    "        sns.distplot(df1[feature], hist=False,label=label1)\n",
    "        sns.distplot(df2[feature], hist=False,label=label2)\n",
    "        plt.xlabel(feature, fontsize=9)\n",
    "        locs, labels = plt.xticks()\n",
    "        # 轴参数\n",
    "        plt.tick_params(axis='x', which='major', labelsize=12, pad=-6)\n",
    "        plt.tick_params(axis='y', which='major', labelsize=12)\n",
    "    #Parallel(n_jobs=2,verbose=10)(delayed(create_gragh)(i,feature) for i,feature in enumerate(features))\n",
    "    \n",
    "    plt.show()\n",
    "\n",
    "#创建标签标准化特征\n",
    "def create_labelencoder(data,object_cols=None):\n",
    "    from sklearn import preprocessing\n",
    "    #返回内容为字符串的列名\n",
    "    if object_cols == None:\n",
    "        object_cols = list(data.dtypes[data.dtypes == np.object].index)\n",
    "    for col in object_cols:\n",
    "        if col!= 'sid':\n",
    "            #标签标准化，将object（字符串列）处理\n",
    "            #例如[\"paris\", \"paris\", \"tokyo\", \"amsterdam\"]；里面不同的标签数目是3个，则标准化标签之后就是0，1，2，并且根据字典排序\n",
    "            lbl = preprocessing.LabelEncoder()\n",
    "            #再一次使用transform是因为labelencoder返回的是LabelEncoder对象\n",
    "            data[col] = lbl.fit_transform(data[col].astype(str))\n",
    "    print('create labelencoder_feature done')\n",
    "    return data"
   ]
  },
  {
   "cell_type": "code",
   "execution_count": 5,
   "metadata": {},
   "outputs": [],
   "source": [
    "t0 = data[:6000000].loc[data['label'] == 0]\n",
    "t1 = data[:6000000].loc[data['label'] == 1]"
   ]
  },
  {
   "cell_type": "code",
   "execution_count": null,
   "metadata": {
    "scrolled": true
   },
   "outputs": [],
   "source": [
    "from sklearn import preprocessing\n",
    "left = 'pkgname&adunitshowid&ver&osv'\n",
    "right = 'make'\n",
    "data[left+'&'+right] = data[left].astype(str)+'_with_'+data[right].astype(str)\n",
    "lbl = preprocessing.LabelEncoder()\n",
    "data[left+'&'+right] = lbl.fit_transform(data[left+'&'+right].astype(str))\n",
    "data[left+'&'+right + \"_count\"] = data.groupby([left+'&'+right])[left+'&'+right].transform('count')"
   ]
  },
  {
   "cell_type": "code",
   "execution_count": null,
   "metadata": {
    "scrolled": true
   },
   "outputs": [],
   "source": [
    "%time plot_feature_distribution(t0, t1, '0', '1',features)"
   ]
  },
  {
   "cell_type": "code",
   "execution_count": null,
   "metadata": {},
   "outputs": [],
   "source": [
    "data = data[:6000000]"
   ]
  },
  {
   "cell_type": "code",
   "execution_count": null,
   "metadata": {},
   "outputs": [],
   "source": [
    "adunitshowid&city&pkgname\n",
    "adunitshowid&pkgname\n",
    "adunitshowid&city&pkgname&make\n",
    "city&pkgname&make\n",
    "adunitshowid&pkgname&make\n",
    "adunitshowid&ver&make\n",
    "adunitshowid&ver&make&pkgname\n",
    "adunitshowid&city&make\n",
    "adunitshowid&make\n",
    "mediashowid&pkgname&ver\n",
    "mediashowid&pkgname&ver&hour\n",
    "mediashowid&pkgname&ver&period\n",
    "mediashowid&pkgname\n",
    "mediashowid&ver\n",
    "make&osv"
   ]
  },
  {
   "cell_type": "code",
   "execution_count": 59,
   "metadata": {},
   "outputs": [
    {
     "name": "stderr",
     "output_type": "stream",
     "text": [
      "100%|██████████████████████████████████████████████████████████████████████████████████████████| 2/2 [00:01<00:00,  1.44it/s]\n"
     ]
    },
    {
     "data": {
      "text/plain": [
       "<Figure size 432x288 with 0 Axes>"
      ]
     },
     "metadata": {},
     "output_type": "display_data"
    },
    {
     "data": {
      "image/png": "[encoded data removed]",
      "text/plain": [
       "<Figure size 1440x720 with 2 Axes>"
      ]
     },
     "metadata": {},
     "output_type": "display_data"
    },
    {
     "name": "stdout",
     "output_type": "stream",
     "text": [
      "Wall time: 1.64 s\n"
     ]
    }
   ],
   "source": [
    "from sklearn import preprocessing\n",
    "ft = 'test'\n",
    "data[ft] = data['mediashowid'].astype(str)+'&'+data['adunitshowid'].astype(str)\n",
    "lbl = preprocessing.LabelEncoder()\n",
    "data[ft] = lbl.fit_transform(data[ft].astype(str))\n",
    "data[ft + \"_count\"] = data.groupby([ft])[ft].transform('count')\n",
    "t0 = data.loc[data['label'] == 0]\n",
    "t1 = data.loc[data['label'] == 1]\n",
    "%time plot_feature_distribution(t0, t1, '0', '1',[ft,ft + \"_count\"])"
   ]
  },
  {
   "cell_type": "code",
   "execution_count": null,
   "metadata": {},
   "outputs": [],
   "source": [
    "data.drop([left+'&'+right,left+'&'+right + \"_count\"],axis=1,inplace=True)"
   ]
  },
  {
   "cell_type": "code",
   "execution_count": null,
   "metadata": {},
   "outputs": [],
   "source": [
    "osv&lan,osv&make"
   ]
  },
  {
   "cell_type": "code",
   "execution_count": null,
   "metadata": {},
   "outputs": [],
   "source": [
    "%time data = create_labelencoder(data)"
   ]
  },
  {
   "cell_type": "code",
   "execution_count": null,
   "metadata": {},
   "outputs": [],
   "source": [
    "data['datetime'] = pd.to_datetime(data['nginxtime'] / 1000, unit='s') + timedelta(hours=8)\n",
    "data['day'] = data['datetime'].dt.day\n",
    "data['hour'] = data['datetime'].dt.hour \n",
    "data = data.drop(['datetime'],axis=1)"
   ]
  },
  {
   "cell_type": "code",
   "execution_count": null,
   "metadata": {},
   "outputs": [],
   "source": [
    "data['datetime'] = pd.to_datetime(data['nginxtime'] / 1000, unit='s') + timedelta(hours=8)"
   ]
  },
  {
   "cell_type": "code",
   "execution_count": null,
   "metadata": {},
   "outputs": [],
   "source": [
    "data[1000000:]['datetime'].value_counts()"
   ]
  },
  {
   "cell_type": "code",
   "execution_count": null,
   "metadata": {},
   "outputs": [],
   "source": [
    "data[''][data['datetime']=='2019-08-10 14:20:19.756000042']"
   ]
  },
  {
   "cell_type": "code",
   "execution_count": null,
   "metadata": {},
   "outputs": [],
   "source": [
    "features = [col for col in data.columns if col not in ['sid', 'label']]"
   ]
  },
  {
   "cell_type": "code",
   "execution_count": null,
   "metadata": {
    "scrolled": true
   },
   "outputs": [],
   "source": [
    "col = 'model'\n",
    "print(len(data[col][data[col].isnull()]))\n",
    "data[col].value_counts()"
   ]
  },
  {
   "cell_type": "code",
   "execution_count": null,
   "metadata": {
    "scrolled": true
   },
   "outputs": [],
   "source": [
    "import re\n",
    "pt1 = re.compile('[0-9]+\\.[0-9]+\\.[0-9]+')\n",
    "pt2 = re.compile('[0-9]+\\.[0-9]+')\n",
    "def clean_osv(x):\n",
    "    result = re.search(pt1,x)\n",
    "    if result == None:\n",
    "        result = re.search(pt2,x)\n",
    "    if result == None:\n",
    "        x = x.strip('android_')\n",
    "        return x.strip('android')\n",
    "    return result.group()\n",
    "%time data['osv'] = data['osv'].apply(lambda x: str(x).lower()).apply(lambda x: x.replace(',','.')).apply(clean_osv)"
   ]
  },
  {
   "cell_type": "code",
   "execution_count": null,
   "metadata": {},
   "outputs": [],
   "source": [
    "p='安徽'\n",
    "#data['city'][data['city'].isnull()]='empty'\n",
    "%time tmp = data[['ip','city']][data['city']==p].groupby(by=['ip'])['city'].agg(lambda x: x.value_counts().index[0]).reset_index().rename(columns={col: 'tmp'})"
   ]
  },
  {
   "cell_type": "code",
   "execution_count": null,
   "metadata": {},
   "outputs": [],
   "source": [
    "nextclick = (data[['adunitshowid','nginxtime']].groupby(['adunitshowid'])['nginxtime'].shift(-1) - data['nginxtime'])"
   ]
  },
  {
   "cell_type": "code",
   "execution_count": null,
   "metadata": {
    "scrolled": true
   },
   "outputs": [],
   "source": [
    "nextclick[:100]"
   ]
  },
  {
   "cell_type": "code",
   "execution_count": 24,
   "metadata": {},
   "outputs": [],
   "source": [
    "def cal_intersection_ratio(data,col_name):\n",
    "    train_value = set(data[:5000000][col_name].values)\n",
    "    test_a_value = set(data[5000000:6000000][col_name].values)\n",
    "    test_b_value = set(data[6000000:][col_name].values)\n",
    "    \n",
    "    print('intersection of train and test_a in train:',len(train_value&test_a_value)/len(train_value))\n",
    "    print('intersection of train and test_b in train:',len(train_value&test_b_value)/len(train_value))\n",
    "    print('intersection of train and test in train:',len(train_value&(test_a_value|test_b_value))/len(train_value))\n",
    "    print('intersection of train and test in test:',len(train_value&(test_a_value|test_b_value))/len(test_a_value|test_b_value))\n",
    "    print('intersection of test_a and test_b in test_a:',len(train_value&test_a_value)/len(test_a_value))\n",
    "    print('intersection of test_a and test_b in test_b:',len(train_value&test_b_value)/len(test_b_value))"
   ]
  },
  {
   "cell_type": "code",
   "execution_count": 51,
   "metadata": {},
   "outputs": [
    {
     "name": "stdout",
     "output_type": "stream",
     "text": [
      "intersection of train and test_a in train: 0.16210359771617253\n",
      "intersection of train and test_b in train: 0.16114053793767627\n",
      "intersection of train and test in train: 0.17520808970213936\n",
      "intersection of train and test in test: 0.5490999245445726\n",
      "intersection of test_a and test_b in test_a: 0.6868259982512387\n",
      "intersection of test_a and test_b in test_b: 0.6872524570925627\n"
     ]
    }
   ],
   "source": [
    "cal_intersection_ratio(data,'adunitshowid&reqrealip')"
   ]
  },
  {
   "cell_type": "code",
   "execution_count": 63,
   "metadata": {},
   "outputs": [
    {
     "data": {
      "text/html": [
       "<div>\n",
       "<style scoped>\n",
       "    .dataframe tbody tr th:only-of-type {\n",
       "        vertical-align: middle;\n",
       "    }\n",
       "\n",
       "    .dataframe tbody tr th {\n",
       "        vertical-align: top;\n",
       "    }\n",
       "\n",
       "    .dataframe thead th {\n",
       "        text-align: right;\n",
       "    }\n",
       "</style>\n",
       "<table border=\"1\" class=\"dataframe\">\n",
       "  <thead>\n",
       "    <tr style=\"text-align: right;\">\n",
       "      <th></th>\n",
       "      <th>pkgname&amp;ver</th>\n",
       "      <th>pkgname&amp;ver&amp;apptype&amp;osv&amp;lan</th>\n",
       "    </tr>\n",
       "  </thead>\n",
       "  <tbody>\n",
       "    <tr>\n",
       "      <th>pkgname&amp;ver</th>\n",
       "      <td>1.000000</td>\n",
       "      <td>0.998911</td>\n",
       "    </tr>\n",
       "    <tr>\n",
       "      <th>pkgname&amp;ver&amp;apptype&amp;osv&amp;lan</th>\n",
       "      <td>0.998911</td>\n",
       "      <td>1.000000</td>\n",
       "    </tr>\n",
       "  </tbody>\n",
       "</table>\n",
       "</div>"
      ],
      "text/plain": [
       "                             pkgname&ver  pkgname&ver&apptype&osv&lan\n",
       "pkgname&ver                     1.000000                     0.998911\n",
       "pkgname&ver&apptype&osv&lan     0.998911                     1.000000"
      ]
     },
     "execution_count": 63,
     "metadata": {},
     "output_type": "execute_result"
    }
   ],
   "source": [
    "data[['pkgname&ver','pkgname&ver&apptype&osv&lan']].corr()"
   ]
  }
 ],
 "metadata": {
  "kernelspec": {
   "display_name": "Python 3",
   "language": "python",
   "name": "python3"
  },
  "language_info": {
   "codemirror_mode": {
    "name": "ipython",
    "version": 3
   },
   "file_extension": ".py",
   "mimetype": "text/x-python",
   "name": "python",
   "nbconvert_exporter": "python",
   "pygments_lexer": "ipython3",
   "version": "3.7.3"
  }
 },
 "nbformat": 4,
 "nbformat_minor": 2
}
