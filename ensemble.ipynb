{
 "cells": [
  {
   "cell_type": "code",
   "execution_count": 5,
   "metadata": {},
   "outputs": [],
   "source": [
    "import numpy as np\n",
    "import pandas as pd\n",
    "\n",
    "feature_path = 'feature/'\n",
    "model_path = 'model/'\n",
    "submit_path = 'submit/'\n",
    "#stacking feature data\n",
    "metafeature_path = 'meta-feature/'\n",
    "pic_path = 'pic/'\n",
    "train_data_1_len = 1000000\n",
    "train_data_2_len = 5000000\n",
    "test_data_len = 1000000"
   ]
  },
  {
   "cell_type": "code",
   "execution_count": 2,
   "metadata": {},
   "outputs": [],
   "source": [
    "path_list = ['submit_2019-8-27-18-58.csv','submit_2019-8-29-15-16.csv','submit_2019-8-29-16-31.csv']"
   ]
  },
  {
   "cell_type": "code",
   "execution_count": 3,
   "metadata": {},
   "outputs": [],
   "source": [
    "# 输入文件列表并投票，最好是计数个文件\n",
    "def vote_result(path_list):\n",
    "    for idx,path in enumerate(path_list):\n",
    "        if idx == 0:\n",
    "            data = pd.read_csv(submit_path+path)\n",
    "        else:\n",
    "            temp = pd.read_csv(submit_path+path)\n",
    "            data['label'] += temp['label']\n",
    "        print(\"{0} done\".format(path))\n",
    "    data['label']/=len(path_list)\n",
    "    data['label']=data['label'].apply(lambda x: 1 if x>0.5 else 0)\n",
    "    return data"
   ]
  },
  {
   "cell_type": "code",
   "execution_count": 6,
   "metadata": {},
   "outputs": [
    {
     "name": "stdout",
     "output_type": "stream",
     "text": [
      "submit_2019-8-27-18-58.csv done\n",
      "submit_2019-8-29-15-16.csv done\n",
      "submit_2019-8-29-16-31.csv done\n"
     ]
    }
   ],
   "source": [
    "result = vote_result(path_list)\n",
    "result['label'].value_counts()\n",
    "result.to_csv(submit_path+'vote_3_1.csv',index=None)"
   ]
  },
  {
   "cell_type": "code",
   "execution_count": 2,
   "metadata": {},
   "outputs": [],
   "source": [
    "file_list = ['lgb_final_1&label_encode-398',\n",
    "             'keras_nn_dense_cate_embed&_final_1-398']"
   ]
  },
  {
   "cell_type": "code",
   "execution_count": 3,
   "metadata": {},
   "outputs": [],
   "source": [
    "train_data = pd.read_feather('stackdata/'+file_list[0]+'_train.bin')\n",
    "for i in range(1,len(file_list)):\n",
    "    temp = pd.read_feather('stackdata/'+file_list[i]+'_train.bin')\n",
    "    if 'sid' in temp.columns:\n",
    "        temp = temp.drop(['sid'],axis=1)\n",
    "    train_data = pd.concat([train_data,temp],axis=1)\n",
    "train_data['label'] = pd.read_csv('train.txt','\\t').label"
   ]
  },
  {
   "cell_type": "code",
   "execution_count": 5,
   "metadata": {},
   "outputs": [],
   "source": [
    "test_data = pd.read_feather('stackdata/'+file_list[0]+'_test.bin')\n",
    "for i in range(1,len(file_list)):\n",
    "    temp = pd.read_feather('stackdata/'+file_list[i]+'_test.bin')\n",
    "    if 'sid' in temp.columns:\n",
    "        temp = temp.drop(['sid'],axis=1)\n",
    "    test_data = pd.concat([test_data,temp],axis=1)\n",
    "test_data['label'] = pd.Series(np.zeros(len(test_data)))-1"
   ]
  },
  {
   "cell_type": "code",
   "execution_count": 9,
   "metadata": {},
   "outputs": [],
   "source": [
    "temp_train = pd.read_csv('stackdata/cgb_oof.csv')\n",
    "temp_train.columns = ['cgb']\n",
    "temp_test = pd.read_csv('stackdata/cgb_prediction.csv')\n",
    "temp_test.columns = ['cgb']\n",
    "# 合并 train 和 test 的stack文件\n",
    "temp_data = pd.concat([temp_train,temp_test],axis=0).reset_index(drop=True)\n",
    "\n",
    "data = pd.concat([data,temp_data],axis=1).reset_index(drop=True)"
   ]
  },
  {
   "cell_type": "code",
   "execution_count": 7,
   "metadata": {},
   "outputs": [],
   "source": [
    "# 合并 train 和 test 的stack文件\n",
    "data = pd.concat([train_data,test_data],axis=0).reset_index(drop=True)"
   ]
  },
  {
   "cell_type": "code",
   "execution_count": 11,
   "metadata": {},
   "outputs": [],
   "source": [
    "data.to_feather('stackdata/stack_data_2-{0}.bin'.format(len(data.columns)))"
   ]
  },
  {
   "cell_type": "code",
   "execution_count": null,
   "metadata": {},
   "outputs": [],
   "source": []
  }
 ],
 "metadata": {
  "kernelspec": {
   "display_name": "Python 3",
   "language": "python",
   "name": "python3"
  },
  "language_info": {
   "codemirror_mode": {
    "name": "ipython",
    "version": 3
   },
   "file_extension": ".py",
   "mimetype": "text/x-python",
   "name": "python",
   "nbconvert_exporter": "python",
   "pygments_lexer": "ipython3",
   "version": "3.7.3"
  }
 },
 "nbformat": 4,
 "nbformat_minor": 2
}
