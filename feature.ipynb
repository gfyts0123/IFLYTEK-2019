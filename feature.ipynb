{
 "cells": [
  {
   "cell_type": "code",
   "execution_count": 1,
   "metadata": {},
   "outputs": [],
   "source": [
    "import pandas as pd\n",
    "import numpy as np\n",
    "import gc\n",
    "from joblib import Parallel, delayed\n",
    "import os\n",
    "import warnings\n",
    "warnings.filterwarnings('ignore')\n",
    "\n",
    "import time\n",
    "from datetime import timedelta, datetime\n",
    "from tqdm import tqdm\n",
    "import re\n",
    "\n",
    "feature_path = 'feature/'\n",
    "model_path = 'model/'\n",
    "submit_path = 'submit/'\n",
    "#stacking feature data\n",
    "metafeature_path = 'meta-feature/'\n",
    "pic_path = 'pic/'\n",
    "train_data_1_len = 1000000\n",
    "train_data_2_len = 5000000\n",
    "test_data_len = 1000000\n",
    "\n",
    "def reduce_mem_usage(data):\n",
    "    '''\n",
    "    通过判断数据范围的上下限来选择最小能存储数据的类型\n",
    "    注意:在存储feather前不要使用,因为feather不支持float16位类型\n",
    "    data:输入dataframe\n",
    "    return:返回优化后的dataframe\n",
    "    '''\n",
    "    numerics = ['int16', 'int32', 'int64', 'float16', 'float32', 'float64']\n",
    "    start_mem = data.memory_usage().sum() / 1024**2    \n",
    "    for col in data.columns:\n",
    "        col_type = data[col].dtypes\n",
    "        if col_type in numerics:\n",
    "            c_min = data[col].min()\n",
    "            c_max = data[col].max()\n",
    "            if str(col_type)[:3] == 'int':\n",
    "                if c_min > np.iinfo(np.int8).min and c_max < np.iinfo(np.int8).max:\n",
    "                    data[col] = data[col].astype(np.int8)\n",
    "                elif c_min > np.iinfo(np.int16).min and c_max < np.iinfo(np.int16).max:\n",
    "                    data[col] = data[col].astype(np.int16)\n",
    "                elif c_min > np.iinfo(np.int32).min and c_max < np.iinfo(np.int32).max:\n",
    "                    data[col] = data[col].astype(np.int32)\n",
    "                elif c_min > np.iinfo(np.int64).min and c_max < np.iinfo(np.int64).max:\n",
    "                    data[col] = data[col].astype(np.int64)  \n",
    "            else:\n",
    "                if c_min > np.finfo(np.float16).min and c_max < np.finfo(np.float16).max:\n",
    "                    #为避免feather不支持此类型\n",
    "                    #data[col] = data[col].astype(np.float16)\n",
    "                    pass\n",
    "                elif c_min > np.finfo(np.float32).min and c_max < np.finfo(np.float32).max:\n",
    "                    data[col] = data[col].astype(np.float32)\n",
    "                else:\n",
    "                    data[col] = data[col].astype(np.float64)    \n",
    "    end_mem = data.memory_usage().sum() / 1024**2\n",
    "    print('Mem. usage decreased to {:5.2f} Mb ({:.1f}% reduction)'.format(end_mem, 100 * (start_mem - end_mem) / start_mem))\n",
    "    return data\n",
    "        \n",
    "\n",
    "def combine_feature_feather(feature_file_list=None):\n",
    "    '''\n",
    "    从feature文件夹中加载feature\n",
    "    feature_file_list:默认加载feature_path下所有feature文件(除了整个文件)；可传入列表选择文件\n",
    "    '''\n",
    "    if feature_file_list != None and type(feature_file_list) != list:\n",
    "        raise ValueError(\"Unable to load features from {0}\".format(str(feature_file_list)))\n",
    "    \n",
    "    if feature_file_list == None:\n",
    "        #遍历feature文件\n",
    "        feature_file_list = os.listdir(feature_path)\n",
    "    \n",
    "    if len(feature_file_list) < 1:\n",
    "        print('Empty feature file list')\n",
    "        return None\n",
    "    \n",
    "    # 无法读取混合类型的文件\n",
    "    # 请将feature_path目录下文件统一格式存储\n",
    "    #file_type_num = len(set([x.split('.') for x in feature_file_list]))\n",
    "    #if file_type_num > 1:\n",
    "     #   raise ValueError(\"Unable to load features from mix type feature file : file type number-{0}\".format(str(file_type_num)))\n",
    "    \n",
    "    #并行读取文件\n",
    "    def df_append(file):\n",
    "        return pd.read_feather(file)\n",
    "    \n",
    "    feature_df_list = Parallel(n_jobs=-1,verbose=10)(delayed(df_append)(feature_path+file_name) for file_name in feature_file_list if file_name != 'combine.bin')\n",
    "    \n",
    "    print(len(feature_df_list))\n",
    "    data = pd.concat(feature_df_list,axis=1).reset_index(drop=True)\n",
    "    del feature_df_list\n",
    "    gc.collect()\n",
    "    data.to_feather(feature_path+'combine.bin')\n",
    "    return data\n",
    "\n",
    "def create_screen(data):\n",
    "    cols = ['h','w','ppi','h_w_ratio','screen_area','size','orientation','creative_dpi','px']\n",
    "    #高 除以 宽\n",
    "    #data['w'][data['w']==-1.0] = 0.0\n",
    "    #data['h'][data['h']==-1.0] = 0.0\n",
    "    data['ppi'] = data['ppi'].fillna(0)\n",
    "    \n",
    "    group_col = 'model'\n",
    "    for col in ['h','w','ppi']:\n",
    "        tmp = data[[group_col,col]]\n",
    "        tmp = tmp.groupby(by=[group_col])[col].mean()  #以'model'为划分求平均值\n",
    "        tmp = tmp.reset_index().rename(columns={col: 'tmp'})   #划分序号并重命名为tmp\n",
    "\n",
    "        #merge小结：on = ''为主键， how= 'outer'为并集，没有的取nan，'inner'为交集，'left'为全取左边，右边有就填充， 'right'相反\n",
    "        data = data.merge(tmp, on=[group_col], how='left',copy=False,sort=False) \n",
    "\n",
    "        data['tmp'][data[col]!=0] = 0\n",
    "        data[col]+=data['tmp']\n",
    "        data.drop(['tmp'],axis=1,inplace=True)\n",
    "    \n",
    "    data['h_w_ratio'] = data['h']/data['w']\n",
    "    \n",
    "    # 屏幕尺寸 合并成宽和高\n",
    "    data['screen_area'] = data['w'] * data['h']\n",
    "    \n",
    "    #英寸尺寸\n",
    "    data['size'] = (np.sqrt(data['h'] ** 2 + data['w'] ** 2) / 2.54) / 1000\n",
    "    data['px'] = data['ppi'] * data['size']\n",
    "    \n",
    "    data['creative_dpi'] = data['h'].astype(str) + \"_\" + data['w'].astype(str)\n",
    "\n",
    "    # orientation 出现异常值 90度和2 归为 0\n",
    "    data['orientation'][(data['orientation'] == 90) | (data['orientation'] == 2)] = 0\n",
    "    data['orientation'] = data['orientation'].fillna(0)\n",
    "    data['orientation'] = data['orientation'].astype(int)\n",
    "    \n",
    "    data[cols] = create_category_encoder(data[cols])\n",
    "    data[cols].to_feather(feature_path+'screen_ft.bin')\n",
    "    print('create screen_feature done')\n",
    "    return data\n",
    "\n",
    "def create_time(data):\n",
    "    cols = ['hour','minute','period','nginxtime-begin_time']\n",
    "    # 处理时间\n",
    "    data['datetime'] = pd.to_datetime(data['nginxtime'] / 1000, unit='s') + timedelta(hours=8)\n",
    "    data['hour'] = data['datetime'].dt.hour\n",
    "    \n",
    "    data['minute'] = data['datetime'].dt.hour*60 + data['datetime'].dt.minute\n",
    "\n",
    "    data['period'] = pd.Series(np.zeros(len(data)))-1\n",
    "    data.period[(data.hour>=22) | (data.hour<2)] = 1 #半夜\n",
    "    data.period[(data.hour>=2) & (data.hour<6)] = 2 #凌晨\n",
    "    data.period[(data.hour>=6) & (data.hour<10)] = 3 #早上\n",
    "    data.period[(data.hour>=10) & (data.hour<14)] = 4 #中午\n",
    "    data.period[(data.hour>=14) & (data.hour<18)] = 5 #下午\n",
    "    data.period[(data.hour>=18) & (data.hour<22)] = 6 #晚上\n",
    "    \n",
    "    data['period'] = data['period'].astype(int)\n",
    "\n",
    "    #请求会话时间，使用lambda函数，将取sid最后的一串数字作为开始时间\n",
    "    data['begin_time'] = data['sid'].apply(lambda x:int(x.split('-')[-1])) \n",
    "    #请求会话时间 与 请求到达服务时间的差\n",
    "    data['nginxtime-begin_time'] = data['nginxtime']-data['begin_time']\n",
    "    '''\n",
    "    df = data[['sid','ver','adunitshowid','nginxtime']].copy()\n",
    "    df = df.sort_values(by='nginxtime')\n",
    "    df['ver&adunitshowid_nextClick'] = (df.groupby(['ver','adunitshowid']).nginxtime.shift(-1)/1000 - df.nginxtime/1000).astype(np.float32)\n",
    "    df['ver&adunitshowid_lastClick'] = (df.nginxtime/1000 - df.groupby(['ver','adunitshowid']).nginxtime.shift(+1)/1000).astype(np.float32)\n",
    "    df['adunitshowid_nextClick'] = (df.groupby(['adunitshowid']).nginxtime.shift(-1)/1000 - df.nginxtime/1000).astype(np.float32)\n",
    "    df['adunitshowid_lastClick'] = (df.nginxtime/1000 - df.groupby(['adunitshowid']).nginxtime.shift(+1)/1000).astype(np.float32)\n",
    "    time_shift_cols = ['ver&adunitshowid_nextClick','ver&adunitshowid_lastClick','adunitshowid_nextClick','adunitshowid_lastClick']\n",
    "    %time data = data.merge(df[['sid']+time_shift_cols],how='left',on='sid',copy=False,sort=False)\n",
    "    print(data.columns)\n",
    "    del df\n",
    "    gc.collect()\n",
    "    data[time_shift_cols].to_feather(feature_path+'time_shift_ft.bin')\n",
    "    '''\n",
    "    data = data.drop(['nginxtime','datetime','begin_time'],axis=1)\n",
    "    \n",
    "    #data['hour'] = data['hour'].astype(str)\n",
    "    #data['minute'] = data['minute'].astype(str)\n",
    "    #data['period'] = data['period'].astype(str)\n",
    "    data[cols].to_feather(feature_path+'time_ft.bin')\n",
    "    print('create time done')\n",
    "    return data\n",
    "\n",
    "def create_region(data):\n",
    "    cols = ['city','province']\n",
    "    \n",
    "    city_list_raw = ['云浮市', '平顶山市', '莱芜市', '齐齐哈尔市', '黑河市', '巴中市', '达州市', '烟台市', '滨州市', '江门市', '内江市', '盐城市', '青岛市', '梅州市', '张家界市', '鞍山市', '锡林郭勒盟', '汕头市', '庆阳市', '九江市', '东莞市', '凉山彝族自治州', '日照市', '广元市', '昆明市', '周口市', '海南藏族自治州', '白城市', '巴音郭楞蒙古自治州', '攀枝花市', '克孜勒苏柯尔克孜自治州', '秦皇岛市', '惠州市', '红河哈尼族彝族自治州', '宁波市', '巴彦淖尔市', '泰州市', '驻马店市', '南昌市', '普洱市', '南阳市', '丽水市', '乐山市', '株洲市', '泸州市', '保定市', '三门峡市', '乌鲁木齐市', '营口市', '石嘴山市', '怒江傈僳族自治州', '长春市', '镇江市', '南京市', '阳江市', '晋中市', '洛阳市', '宜春市', '曲靖市', '包头市', '滁州市', '唐山市', '无锡市', '广州市', '鹤岗市', '孝感市', '双鸭山市', '漯河市', '银川市', '聊城市', '延边朝鲜族自治州', '南通市', '成都市', '赤峰市', '桂林市', '深圳市', '眉山市', '河源市', '丽江市', '宿迁市', '本溪市', '临沧市', '黔东南苗族侗族自治州', '绥化市', '芜湖市', '伊春市', '池州市', '西宁市', '楚雄彝族自治州', '厦门市', '济宁市', '呼伦贝尔市', '安阳市', '抚州市', '咸阳市', '崇左市', '延安市', '鄂尔多斯市', '台州市', '临夏回族自治州', '丹东市', '中山市', '武威市', '安庆市', '天水市', '合肥市', '福州市', '新乡市', '苏州市', '潮州市', '安康市', '定西市', '陇南市', '葫芦岛市', '枣庄市', '昭通市', '鹤壁市', '和田地区', '重庆市', '辽源市', '文山壮族苗族自治州', '大兴安岭地区', '塔城地区', '西双版纳傣族自治州', '襄阳市', '连云港市', '淮安市', '阿克苏地区', '迪庆藏族自治州', '海西蒙古族藏族自治州', '固原市', '杭州市', '常州市', '衡水市', '邢台市', '吉安市', '佳木斯市', '宁德市', '德阳市', '阜阳市', '岳阳市', '临沂市', '舟山市', '阳泉市', '东营市', '儋州市', '荆州市', '怀化市', '海北藏族自治州', '许昌市', '通辽市', '呼和浩特市', '阜新市', '铁岭市', '铜陵市', '兰州市', '扬州市', '绵阳市', '中卫市', '宜宾市', '遂宁市', '长治市', '济南市', '蚌埠市', '武汉市', '张掖市', '三亚市', '吕梁市', '嘉兴市', '雅安市', '来宾市', '四平市', '拉萨市', '汕尾市', '运城市', '乌海市', '南平市', '上饶市', '阿坝藏族羌族自治州', '果洛藏族自治州', '阿勒泰地区', '德州市', '濮阳市', '保山市', '湖州市', '沧州市', '商丘市', '佛山市', '荆门市', '哈尔滨市', '安顺市', '亳州市', '沈阳市', '晋城市', '淮北市', '鹰潭市', '汉中市', '鄂州市', '梧州市', '辽阳市', '松原市', '自治区直辖县级行政区划', '衢州市', '乌兰察布市', '玉树藏族自治州', '承德市', '嘉峪关市', '澳门', '伊犁哈萨克自治州', '泉州市', '兴安盟', '宿州市', '临汾市', '景德镇市', '邯郸市', '大同市', '西安市', '信阳市', '石家庄市', '阿拉善盟', '吉林市', '十堰市', '张家口市', '玉林市', '酒泉市', '资阳市', '金华市', '黄山市', '绍兴市', '淄博市', '衡阳市', '黄石市', '廊坊市', '克拉玛依市', '甘南藏族自治州', '锦州市', '香港', '通化市', '揭阳市', '郑州市', '海口市', '钦州市', '清远市', '白山市', '焦作市', '六盘水市', '昌吉回族自治州', '长沙市', '黄南藏族自治州', '广安市', '喀什地区', '南宁市', '韶关市', '阿里地区', '天津市', '大连市', '菏泽市', '萍乡市', '新余市', '太原市', '商洛市', '六安市', '大理白族自治州', '漳州市', '甘孜藏族自治州', '吴忠市', '茂名市', '忻州市', '赣州市', '德宏傣族景颇族自治州', '遵义市', '马鞍山市', '铜川市', '宣城市', '宜昌市', '盘锦市', '随州市', '贵阳市', '北海市', '贺州市', '温州市', '黔西南布依族苗族自治州', '白银市', '娄底市', '榆林市', '黔南布依族苗族自治州', '开封市', '金昌市', '台湾', '防城港市', '肇庆市', '柳州市', '龙岩市', '咸宁市', '朔州市', '三明市', '南充市', '湘西土家族苗族自治州', '潍坊市', '北京市', '徐州市', '玉溪市', '百色市', '朝阳市', '大庆市', '黄冈市', '湘潭市', '渭南市', '威海市', '上海市', '莆田市', '泰安市', '博尔塔拉蒙古自治州', '常德市', '珠海市', '恩施土家族苗族自治州', '淮南市', '贵港市', '永州市', '宝鸡市', '湛江市', '自贡市', '益阳市', '牡丹江市', '河池市', '鸡西市', '抚顺市', '七台河市', '郴州市', '邵阳市', '平凉市']\n",
    "    city_to_province = ['广东省','河南省','山东省','黑龙江省','黑龙江省','四川省','四川省','山东省','山东省','广东省','四川省','江苏省','山东省','广东省','湖南省','辽宁省','内蒙古省','广东省','甘肃省','江西省','广东省','四川省','山东省','四川省','云南省','河南省','青海省','吉林省','新疆维吾尔省','四川省','新疆维吾尔省','河北省','广东省','云南省','浙江省','内蒙古省','江苏省','河南省','江西省','云南省','河南省','浙江省','四川省','湖南省','四川省','河北省','河南省','新疆维吾尔省','辽宁省','宁夏省','云南省','吉林省','江苏省','江苏省','广东省','山西省','河南省','江西省','云南省','内蒙古省','安徽省','河北省','江苏省','广东省','黑龙江省','湖北省','黑龙江省','河南省','宁夏省','山东省','吉林省','江苏省','四川省','内蒙古省','广西省','广东省','四川省','广东省','云南省','江苏省','辽宁省','云南省','贵州省','黑龙江省','安徽省','黑龙江省','安徽省','青海省','云南省','福建省','山东省','内蒙古省','河南省','江西省','陕西省','广西省','陕西省','内蒙古省','浙江省','甘肃省','辽宁省','广东省','甘肃省','安徽省','甘肃省','安徽省','福建省','河南省','江苏省','广东省','陕西省','甘肃省','甘肃省','辽宁省','山东省','云南省','河南省','新疆维吾尔省','重庆市','吉林省','云南省','黑龙江省','新疆维吾尔省','云南省','湖北省','江苏省','江苏省','新疆维吾尔省','云南省','青海省','宁夏省','浙江省','江苏省','河北省','河北省','江西省','黑龙江省','福建省','四川省','安徽省','湖南省','山东省','浙江省','山西省','山东省','海南省','湖北省','湖南省','青海省','河南省','内蒙古省','内蒙古省','辽宁省','辽宁省','安徽省','甘肃省','江苏省','四川省','宁夏省','四川省','四川省','山西省','山东省','安徽省','湖北省','甘肃省','海南省','山西省','浙江省','四川省','广西省','吉林省','西藏省','广东省','山西省','内蒙古省','福建省','江西省','四川省','青海省','新疆维吾尔省','山东省','河南省','云南省','浙江省','河北省','河南省','广东省','湖北省','黑龙江省','贵州省','安徽省','辽宁省','山西省','安徽省','江西省','陕西省','湖北省','广西省','辽宁省','吉林省','other_province','浙江省','内蒙古省','青海省','河北省','甘肃省','澳门','新疆维吾尔省','福建省','内蒙古省','安徽省','山西省','江西省','河北省','山西省','陕西省','河南省','河北省','内蒙古省','吉林省','湖北省','河北省','广西省','甘肃省','四川省','浙江省','安徽省','浙江省','山东省','湖南省','湖北省','河北省','新疆维吾尔省','甘肃省','辽宁省','香港','吉林省','广东省','河南省','海南省','广西省','广东省','吉林省','河南省','贵州省','新疆维吾尔省','湖南省','青海省','四川省','新疆维吾尔省','广西省','广东省','西藏省','天津省','辽宁省','山东省','江西省','江西省','山西省','陕西省','安徽省','云南省','福建省','四川省','宁夏省','广东省','山西省','江西省','云南省','贵州省','安徽省','陕西省','安徽省','湖北省','辽宁省','湖北省','贵州省','广西省','广西省','浙江省','贵州省','甘肃省','湖南省','陕西省','贵州省','河南省','甘肃省','台湾省','广西省','广东省','广西省','福建省','湖北省','山西省','福建省','四川省','湖南省','山东省','北京市','江苏省','云南省','广西省','辽宁省','黑龙江省','湖北省','湖南省','陕西省','山东省','上海市','福建省','山东省','新疆维吾尔省','湖南省','广东省','湖北省','安徽省','广西省','湖南省','陕西省','广东省','四川省','湖南省','黑龙江省','广西省','黑龙江省','辽宁省','黑龙江省','湖南省','湖南省','甘肃省']\n",
    "    city_list_raw = pd.Series(city_list_raw)\n",
    "    city_to_province = pd.Series(city_to_province)\n",
    "    temp = pd.concat([city_list_raw,city_to_province],axis=1).reset_index(drop=True)\n",
    "    temp.columns=['city','province']\n",
    "    #使用merge函数合并,比遍历快\n",
    "    data.merge(temp ,on = 'city',how = 'left',copy=False,sort=False)\n",
    "    \n",
    "    province_in_city = ['安徽','广东','云南','陕西','江苏','辽宁','山东','湖北','河北','内蒙古','湖南','浙江','四川','河南']\n",
    "    for p in province_in_city:\n",
    "        data['province'][data['city']==p] = p+'省'\n",
    "    \n",
    "    data['city'][data['city'].isnull()]='empty'\n",
    "    data['province'][data['city'].isnull()]='empty'\n",
    "    '''\n",
    "    for i,city in tqdm(enumerate(city_list_raw),mininterval=1.0):\n",
    "        try:\n",
    "            data['province'][data['city']==city] = city_to_province[i]\n",
    "        except:\n",
    "            data['province'][data['city']==city] = 'empty'\n",
    "            print(city)\n",
    "    '''\n",
    "    data['province'][data['province']=='other_province'] = 'empty'\n",
    "    \n",
    "    data[cols] = create_category_encoder(data[cols])\n",
    "    data[cols].to_feather(feature_path+'region_ft.bin')\n",
    "    \n",
    "    print('create region done')\n",
    "    return data\n",
    "\n",
    "def create_ip(data):\n",
    "    cols = ['ip','ip1','reqrealip','ip2','ip3','reqrealip1','reqrealip2','reqrealip3','ip_equal']\n",
    "    # 对ip地址和reqrealip地址进行分割\n",
    "    data['ip'] = data['ip'].astype(str)\n",
    "    data['reqrealip'] = data['reqrealip'].astype(str)\n",
    "    data['ip1'] = data['ip'].map(lambda x:'.'.join(x.split('.')[:1]))\n",
    "    data['ip2'] = data['ip'].apply(lambda x: '.'.join(x.split('.')[0:2]))\n",
    "    data['ip3'] = data['ip'].apply(lambda x: '.'.join(x.split('.')[0:3]))\n",
    "    data['reqrealip1'] = data['reqrealip'].map(lambda x:'.'.join(x.split('.')[:1]))\n",
    "    data['reqrealip2'] = data['reqrealip'].apply(lambda x: '.'.join(x.split('.')[0:2]))\n",
    "    data['reqrealip3'] = data['reqrealip'].apply(lambda x: '.'.join(x.split('.')[0:3]))\n",
    "    data['ip_equal'] = (data['ip'] == data['reqrealip']).astype(int)\n",
    "    \n",
    "    data[cols] = create_category_encoder(data[cols])\n",
    "    data[cols].to_feather(feature_path+'ip_ft.bin')\n",
    "    return data\n",
    "\n",
    "#检查一些特征是空值或是重复，作为特征\n",
    "#先处理地理位置\n",
    "def create_empty(data):\n",
    "    cols = ['empty_count']\n",
    "    all_col=[]\n",
    "    for col in [c for c in data.columns if c not in ['sid','label','orentation']]:\n",
    "        data['is_{0}_empty'.format(col)] = pd.DataFrame(np.zeros(len(data)))\n",
    "        data['is_{0}_empty'.format(col)][data[col]=='empty'] = 1\n",
    "        data['is_{0}_empty'.format(col)][data[col].isnull()] = 1\n",
    "        data['is_{0}_empty'.format(col)][(data[col]==0.0)|(data[col]==-1.0)] = 1\n",
    "        all_col.append('is_{0}_empty'.format(col))\n",
    "    data['empty_count'] = pd.DataFrame(np.zeros(len(data)))\n",
    "    for col in all_col:\n",
    "        data['empty_count']+=data[col]\n",
    "    data = data.drop(all_col,axis=1)\n",
    "    \n",
    "    #data[cols] = create_category_encoder(data[cols])\n",
    "    data[cols].to_feather(feature_path+'empty_ft.bin')\n",
    "    print('create empty feature done')\n",
    "    return data\n",
    "\n",
    "#清洗系统版本\n",
    "def osv_summary(x):\n",
    "    idx = x.find('.')\n",
    "    s='empty'\n",
    "    if idx==-1 and len(x)>1:\n",
    "        return s\n",
    "    if len(x)==1:\n",
    "        return x\n",
    "    try:\n",
    "        s = x[idx-1]\n",
    "    except:\n",
    "        pass\n",
    "    return s\n",
    "\n",
    "#先匹配'xx.xx.xx,如果不是再匹配xx.xx'\n",
    "pt1 = re.compile('[0-9]+\\.[0-9]+\\.[0-9]+')\n",
    "pt2 = re.compile('[0-9]+\\.[0-9]+')\n",
    "def clean_osv(x):\n",
    "    result = re.search(pt1,x)\n",
    "    if result == None:\n",
    "        result = re.search(pt2,x)\n",
    "    if result == None:\n",
    "        x = x.strip('android_')\n",
    "        return x.strip('android')\n",
    "    return result.group()\n",
    "\n",
    "#创建软件版本\n",
    "def create_software(data):\n",
    "    cols = ['dvctype','apptype','carrier','lan','ntt','new_ntt','osv','osv_summary','ver','pkgname']\n",
    "    data['dvctype'] = data['dvctype'].astype(str)\n",
    "    \n",
    "    data['apptype'][data['apptype']==-1.0] = 0.0\n",
    "    data['apptype'] = data['apptype'].astype(str)\n",
    "    data['carrier'][data['carrier']==-1.0] = 0.0\n",
    "    data['carrier'] = data['carrier'].astype(str)\n",
    "    \n",
    "    data['lan'] = data['lan'].fillna('empty')\n",
    "    data['lan'] = data['lan'].apply(lambda x: x.lower()).apply(lambda x: x.replace('_','-'))\n",
    "    data['lan'][data['lan']=='zh'] = 'zh-cn'\n",
    "    data['lan'][data['lan']=='zh-'] = 'zh-cn'\n",
    "    data['lan'][data['lan']=='_cn'] = 'zh-cn'\n",
    "    \n",
    "    #data['ntt'][data['ntt']==7.0] = 0.0\n",
    "    \n",
    "    # 处理 ntt 的数据特征 但是不删除之前的特征 将其归为新的一列数据\n",
    "    data['new_ntt'] = data['ntt']\n",
    "    data.new_ntt[(data.new_ntt == 0) | (data.new_ntt == 7)] = 0\n",
    "    data.new_ntt[(data.new_ntt == 1) | (data.new_ntt == 2)] = 1\n",
    "    data.new_ntt[data.new_ntt == 3] = 2\n",
    "    data.new_ntt[(data.new_ntt >= 4) & (data.new_ntt <= 6)] = 3\n",
    "    data['ntt'] = data['ntt'].astype(str)\n",
    "    data['new_ntt'] = data['new_ntt'].astype(str)\n",
    "    \n",
    "    data['osv'] = data['osv'].astype(str)\n",
    "    data['osv'][data['osv']=='unknown'] = 'empty'\n",
    "    data['osv'] = data['osv'].fillna('empty')\n",
    "    data['osv'] = data['osv'].apply(lambda x: str(x).lower()).apply(lambda x: x.replace(',','.')).apply(clean_osv)\n",
    "    #data['osv'] = data['osv'].apply(lambda x: str(x).lower()).apply(lambda x: x.replace(',','.'))\n",
    "    data['osv_summary'] = data['osv'].apply(osv_summary)\n",
    "    \n",
    "    data['ver'] = data['ver'].fillna('empty')\n",
    "    \n",
    "    data[cols] = create_category_encoder(data[cols])\n",
    "    data[cols].to_feather(feature_path+'software_ft.bin')\n",
    "    \n",
    "    print(\"create software done\")\n",
    "    return data\n",
    "\n",
    "#清洗厂商\n",
    "def clean_make(x):\n",
    "    if 'lenovo' in x or '联想' in x:\n",
    "        return 'lenovo'\n",
    "    if 'zte' in x or '中兴' in x:\n",
    "        return 'zte'\n",
    "    if 'meitu' in x or '美图' in x:\n",
    "        return 'meitu'\n",
    "    if '360' in x or '奇酷' in x or 'qiku' in x:\n",
    "        return '360'\n",
    "    if 'smartisan' in x or '锤子' in x:\n",
    "        return 'smartisan'\n",
    "    if 'sony' in x or '索尼' in x:\n",
    "        return 'smartisan'\n",
    "    if 'gree' in x or '格力' in x:\n",
    "        return 'gree'\n",
    "    if 'bbk' in x or '步步高' in x:\n",
    "        return 'bbk'\n",
    "    if 'google' in x or 'nexus' in x or '谷歌' in x:\n",
    "        return 'google'\n",
    "    if 'motorola' in x or '摩托罗拉' in x:\n",
    "        return 'motorola'\n",
    "    if 'changhong' in x or '长虹' in x:\n",
    "        return 'changhong'\n",
    "    if 'coolpad' in x or '酷派' in x:\n",
    "        return 'coolpad'\n",
    "    if 'hisense' in x or '海信' in x:\n",
    "        return 'hisense'\n",
    "    if 'letv' in x or 'lemobile' in x or '乐视' in x:\n",
    "        return 'letv'\n",
    "    if 'cmcc' in x or '移动' in x or 'cmdc' in x:\n",
    "        return 'cmcc'\n",
    "    if 'doov' in x or '朵唯' in x:\n",
    "        return 'doov'\n",
    "    if 'xiaolajiao' in x or '小辣椒' in x:\n",
    "        return 'xiaolajiao'\n",
    "    if '4g' in x:\n",
    "        return '4g'\n",
    "    if 'iphone' in x or 'apple' in x or '苹果' in x or 'ipad' in x:\n",
    "        return 'apple'\n",
    "    if '华为' in x or 'huawei' in x or \"荣耀\" in x or 'honor' in x or '-al' in x or '-tl' in x:\n",
    "        return 'huawei'\n",
    "    if \"魅族\" in x or 'meizu' in x:\n",
    "        return 'meizu'\n",
    "    if \"金立\" in x or 'gionee' in x:\n",
    "        return 'gionee'\n",
    "    if \"三星\" in x or 'samsung' in x or 'sm' in x:\n",
    "        return 'samsung'\n",
    "    if 'xiaomi' in x or '小米' in x or 'mi' in x or 'mix' in x:\n",
    "        return 'xiaomi'\n",
    "    if 'redmi' in x or '红米' in x:\n",
    "        return 'redmi'\n",
    "    if 'oppo' in x or 'm00' in x or 'm10' in x or 'm20' in x or 'm30' in x:\n",
    "        return 'oppo'\n",
    "    if 'vivo' in x:\n",
    "        return 'vivo'\n",
    "    if 'oneplus' in x or '一加' in x:\n",
    "        return 'oneplus'\n",
    "    if 'nubia' in x or '努比亚' in x:\n",
    "        return 'nubia'\n",
    "    if 'nokia' in x or '诺基亚' in x or 'hme' in x:\n",
    "        return 'nokia'\n",
    "    return x\n",
    "\n",
    "#清理硬件特征\n",
    "def create_hardware(data):\n",
    "    cols = ['make','model','big_model','model_equal_make']\n",
    "    \n",
    "    data['make'] = data['make'].fillna('empty')\n",
    "    \n",
    "    data['make'] = data['make'].apply(lambda x: x.lower()).apply(clean_make)\n",
    "    #data['make'] = data['make'].apply(lambda x: x.lower())\n",
    "    \n",
    "    data['make'][data['make']=='unknown'] = 'empty'\n",
    "    data['make'][data['make']=='-'] = 'empty'\n",
    "    data['make'][data['make']=='0'] = 'empty'\n",
    "    \n",
    "    #data['os'][data['make']=='apple'] = 'ios'\n",
    "    \n",
    "    data['model'] = data['model'].fillna('empty')\n",
    "    data['model'][data['model']=='unknown'] = 'empty'\n",
    "    data['model'] = data['model'].apply(lambda x: x.lower())\n",
    "    \n",
    "    data['big_model'] = data['model'].map(lambda x: x.split(' ')[0])\n",
    "    data['model_equal_make'] = (data['big_model'] == data['make']).astype(int)\n",
    "    \n",
    "    data[cols] = create_category_encoder(data[cols])\n",
    "    data[cols].to_feather(feature_path+'hardware_ft.bin')\n",
    "    print(\"create hardware done\")\n",
    "    return data\n",
    "\n",
    "def create_media(data):\n",
    "    #无清理,只是模块化存储\n",
    "    cols = ['adunitshowid','mediashowid']\n",
    "    data[cols] = create_category_encoder(data[cols])\n",
    "    data[cols].to_feather(feature_path+'media_ft.bin')\n",
    "    return data\n",
    "\n",
    "def create_md5(data):\n",
    "    #无清理,只是模块化存储\n",
    "    cols = ['adidmd5','imeimd5','macmd5']\n",
    "    data[cols] = create_category_encoder(data[cols])\n",
    "    data[cols].to_feather(feature_path+'md5_ft.bin')\n",
    "    return data\n",
    "\n",
    "def create_single_col_count(data,cols):\n",
    "    # 单特征不同取值计数\n",
    "    col_name = []\n",
    "    for col in tqdm(cols):\n",
    "        data[col + \"_count\"] = data.groupby([col])[col].transform('count')\n",
    "        col_name.append(col + \"_count\")\n",
    "    data[col_name].to_feather(feature_path+'single_col_count_ft.bin')\n",
    "    print('create single column counts done')\n",
    "    return data\n",
    "\n",
    "def create_category_combine(data,pair_left,pair_right):\n",
    "    '''\n",
    "    \n",
    "    '''\n",
    "    cols=[]\n",
    "    for idx,right in tqdm(enumerate(pair_right)):\n",
    "        for left in pair_left[idx]:\n",
    "            data[left+'&'+right] = data[left].astype(str)+'_'+data[right].astype(str)\n",
    "            cols.append(left+'&'+right)\n",
    "    data[cols] = create_category_encoder(data[cols])\n",
    "    data[cols].to_feather(feature_path+'category_combine_ft.bin')\n",
    "    return data\n",
    "\n",
    "\n",
    "def create_gragh(data):\n",
    "    UIDs = ['pkgname','adunitshowid','ver','osv','make']\n",
    "    data['pkgname&adunitshowid&ver&osv&make'] = data['pkgname'].astype(str)+'&'+data['adunitshowid'].astype(str)+'&'+data['ver'].astype(str)+'&'+data['osv'].astype(str)+'&'+data['make'].astype(str)\n",
    "    \n",
    "    data['adunitshowid&ver&osv&make'] = data['adunitshowid'].astype(str)+'&'+data['ver'].astype(str)+'&'+data['osv'].astype(str)+'&'+data['make'].astype(str)\n",
    "    data['pkgname&ver&osv&make'] = data['pkgname'].astype(str)+'&'+data['ver'].astype(str)+'&'+data['osv'].astype(str)+'&'+data['make'].astype(str)\n",
    "    data['pkgname&adunitshowid&osv&make'] = data['pkgname'].astype(str)+'&'+data['adunitshowid'].astype(str)+'&'+data['osv'].astype(str)+'&'+data['make'].astype(str)\n",
    "    data['pkgname&adunitshowid&ver&make'] = data['pkgname'].astype(str)+'&'+data['adunitshowid'].astype(str)+'&'+data['ver'].astype(str)+'&'+'&'+data['make'].astype(str)\n",
    "    data['pkgname&adunitshowid&ver&osv'] = data['pkgname'].astype(str)+'&'+data['adunitshowid'].astype(str)+'&'+data['ver'].astype(str)+'&'+data['osv'].astype(str)\n",
    "    \n",
    "    gan = ['pkgname&adunitshowid&ver&osv&make','adunitshowid&ver&osv&make','pkgname&ver&osv&make','pkgname&adunitshowid&osv&make',\n",
    "          'pkgname&adunitshowid&ver&make','pkgname&adunitshowid&ver&osv']\n",
    "    data[gan] = create_category_encoder(data[gan]) \n",
    "    \n",
    "    ids = ['imeimd5','macmd5','adidmd5']\n",
    "    ips = ['ip','ip3','reqrealip']\n",
    "    device = ['model','make','creative_dpi']\n",
    "    app = ['pkgname','adunitshowid','ver','osv','apptype','mediashowid']\n",
    "    \n",
    "    all_sub_ft = ids+ips+device+app\n",
    "    \n",
    "    data.drop([col for col in data.columns if col not in UIDs+all_sub_ft+gan+['sid','label']],axis=1,inplace=True)\n",
    "    \n",
    "    UID = 'pkgname&adunitshowid&ver&osv&make'\n",
    "    #一度关联\n",
    "    for col in tqdm(all_sub_ft):\n",
    "        data = data.merge(data.groupby([UID])[col].nunique().rename('UID_'+col+'_nunique').reset_index(),on=UID,how='left',copy=False,sort=False)\n",
    "        data = data.merge(data.groupby([UID])[col].count().rename('UID_'+col+'_count').reset_index(),on=UID,how='left',copy=False,sort=False)\n",
    "        data = reduce_mem_usage(data)\n",
    "        print(len(data.columns))\n",
    "    #二度关联\n",
    "    for col in tqdm(all_sub_ft):\n",
    "        data = data.merge(data.groupby([col])[UID].nunique().rename(col+'_UID'+'_nunique').reset_index(),on=col,how='left',copy=False,sort=False)\n",
    "        data = data.merge(data.groupby([col])[UID].count().rename(col+'_UID'+'_count').reset_index(),on=col,how='left',copy=False,sort=False)\n",
    "        data = reduce_mem_usage(data)\n",
    "        print(len(data.columns))\n",
    "    for col in tqdm(all_sub_ft):\n",
    "        cname = col+'_UID'\n",
    "        temp = data.groupby(UID)[cname+'_nunique'].agg(['sum', 'max','mean']).add_prefix(cname+'_nunique_').reset_index()\n",
    "        data = data.merge(temp,on=UID,how='left',copy=False,sort=False)\n",
    "        temp = data.groupby(UID)[cname+'_count'].agg(['sum']).add_prefix(cname+'_nunique_').reset_index()\n",
    "        data = data.merge(temp,on=UID,how='left',copy=False,sort=False)\n",
    "        data = reduce_mem_usage(data)\n",
    "        print(len(data.columns))\n",
    "        \n",
    "    data = create_category_encoder(data)    \n",
    "    data.to_feather(feature_path+'connection_gragh.bin')\n",
    "    \n",
    "    return data\n",
    "    \n",
    "def create_combine_gragh(data):\n",
    "    from itertools import combinations\n",
    "    device = ['make','model','creative_dpi','dvctype','ntt','carrier','h_w_ratio','h','w','size','px']\n",
    "    other = ['dvctype','ntt','carrier','osv_summary','lan','province','empty_count']\n",
    "    media = ['mediashowid','adunitshowid']\n",
    "    app = ['pkgname','ver','apptype','osv','lan','osv_summary']\n",
    "    normal_cate = device+media+app\n",
    "    ####\n",
    "    ip = ['ip','ip3','reqrealip']\n",
    "    ids = ['imeimd5','macmd5','adidmd5']\n",
    "    # 'make','model','creative_dpi' ,'mediashowid','adunitshowid','pkgname','ver','osv',apptype','device_info'\n",
    "    #device_info - 'dvctype','ntt','carrier','osv_summary','lan','province'\n",
    "    data.drop([col for col in data.columns if col not in normal_cate+ip+ids+other+['sid','label']],axis=1,inplace=True)\n",
    "    \n",
    "    data['device_info'] = data['dvctype'].astype(str)+'&'+data['ntt'].astype(str)+'&'+data['carrier'].astype(str)+'&'+data['osv_summary'].astype(str)+'&'+data['lan'].astype(str)+'&'+data['province'].astype(str)\n",
    "    \n",
    "    comb_ft = ['make','model','creative_dpi' ,'mediashowid','adunitshowid','pkgname','ver','osv','apptype','device_info']\n",
    "    comb_2 = list(combinations(comb_ft,2))\n",
    "    \n",
    "    combed_ft = []\n",
    "    for comb in tqdm(comb_2):\n",
    "        data[comb[0]+'&'+comb[1]] = data[comb[0]].astype(str)+'&'+data[comb[1]].astype(str)\n",
    "        combed_ft.append(comb[0]+'&'+comb[1])\n",
    "        #print(comb[0]+'&'+comb[1])\n",
    "    print(len(data.columns))\n",
    "    \n",
    "    data = create_category_encoder(data)\n",
    "    data = reduce_mem_usage(data)\n",
    "    \n",
    "    comb_4 = list(combinations(comb_ft,4))\n",
    "    for i,comb in tqdm(enumerate(comb_4)):\n",
    "        if 'make' in comb and 'model' in comb:\n",
    "            continue\n",
    "        if 'mediashowid' in comb and 'adunitshowid' in comb:\n",
    "            continue\n",
    "        data[comb[0]+'&'+comb[1]+'&'+comb[2]+'&'+comb[3]] = data[comb[0]].astype(str)+'&'+data[comb[1]].astype(str)+'&'+data[comb[2]].astype(str)+'&'+data[comb[3]].astype(str)\n",
    "        \n",
    "        if (i+1)%30 == 0:\n",
    "            data = create_category_encoder(data)\n",
    "            data = reduce_mem_usage(data)\n",
    "    data = create_category_encoder(data)\n",
    "    data = reduce_mem_usage(data)\n",
    "    #data = create_single_col_count(data,ip+ids+combed_ft)\n",
    "    #data = reduce_mem_usage(data)\n",
    "    #count_cols = [col for col in data.columns if col not in ['sid','label','ntt','dvctype','carrier','apptype','lan']+ip+ids+normal_cate]\n",
    "    #count_cols = ['pkgname&ver&adunitshowid&model&creative_dpi','osv&lan&adunitshowid&make&dvctype&ntt&carrier','pkgname&ver&apptype&osv&lan']\n",
    "    '''\n",
    "    for cate in tqdm(count_cols):\n",
    "        for col in ip+ids:\n",
    "            prefix = cate+'_'+col+'_'\n",
    "            temp = data[[cate,col]].groupby(cate)[col].agg(['nunique','count']).add_prefix(prefix).reset_index()\n",
    "            data = data.merge(temp,on=cate,how='left',copy=False,sort=False)\n",
    "            %time data[[prefix+'nunique',prefix+'count']] = reduce_mem_usage(data[[prefix+'nunique',prefix+'count']])\n",
    "            print(len(data.columns))\n",
    "    '''\n",
    "    data.to_feather(feature_path+'combine_gragh.bin')\n",
    "    return data\n",
    "    \n",
    "def create_category_encoder(data,encode_type='label',object_cols=None):\n",
    "    from sklearn import preprocessing\n",
    "    #返回内容为字符串的列名\n",
    "    if object_cols == None:\n",
    "        object_cols = list(data.dtypes[data.dtypes == np.object].index)\n",
    "        \n",
    "    encode_type = encode_type.lower()\n",
    "    if encode_type == 'label':\n",
    "        for col in object_cols:\n",
    "            if col!= 'sid':\n",
    "                #标签标准化，将object（字符串列）处理\n",
    "                #例如[\"paris\", \"paris\", \"tokyo\", \"amsterdam\"]；里面不同的标签数目是3个，则标准化标签之后就是0，1，2，并且根据字典排序\n",
    "                lbl = preprocessing.LabelEncoder()\n",
    "                #再一次使用transform是因为labelencoder返回的是LabelEncoder对象\n",
    "                data[col] = lbl.fit_transform(data[col].astype(str))\n",
    "    elif encode_type == 'catboost':\n",
    "        from category_encoders.cat_boost import CatBoostEncoder\n",
    "        train_data = data[:5000000]\n",
    "        test_data=data[5000000:].reset_index(drop=True)\n",
    "        train_y = train_data['label']\n",
    "        # catboost encode  需要保证标签随机排列\n",
    "        perm = np.random.permutation(len(train_data))\n",
    "        train_data = train_data.iloc[perm].reset_index(drop=True)\n",
    "        train_y = train_y.iloc[perm].reset_index(drop=True)\n",
    "\n",
    "        cb_encoder = CatBoostEncoder(verbose=1,\n",
    "                                     cols=object_cols,\n",
    "                                     return_df=True,\n",
    "                                     handle_unknown='value')\n",
    "        train_data = cb_encoder.fit_transform(train_data,train_y)\n",
    "        test_data = cb_encoder.transform(test_data)\n",
    "        data = pd.concat([train_data,test_data],axis=0).reset_index(drop=True)\n",
    "    elif encode_type == 'woe':\n",
    "        from category_encoders.woe import WOEEncoder\n",
    "        train_data = data[:5000000]\n",
    "        test_data=data[5000000:].reset_index(drop=True)\n",
    "        train_y = train_data['label']\n",
    "\n",
    "        woe_encoder = WOEEncoder(verbose=1,\n",
    "                                     cols=object_cols,\n",
    "                                     return_df=True,\n",
    "                                     handle_unknown='value',\n",
    "                                random_state=20190920,\n",
    "                                randomized=True)\n",
    "        train_data = woe_encoder.fit_transform(train_data,train_y)\n",
    "        test_data = woe_encoder.transform(test_data)\n",
    "        data = pd.concat([train_data,test_data],axis=0).reset_index(drop=True)\n",
    "    else:\n",
    "        raise ValueError('Unknown encode type:',encode_type)\n",
    "    print('category encode done')\n",
    "    return data"
   ]
  },
  {
   "cell_type": "code",
   "execution_count": 3,
   "metadata": {},
   "outputs": [
    {
     "data": {
      "text/plain": [
       "True"
      ]
     },
     "execution_count": 3,
     "metadata": {},
     "output_type": "execute_result"
    }
   ],
   "source": []
  },
  {
   "cell_type": "code",
   "execution_count": 2,
   "metadata": {},
   "outputs": [
    {
     "data": {
      "text/plain": [
       "7"
      ]
     },
     "execution_count": 2,
     "metadata": {},
     "output_type": "execute_result"
    }
   ],
   "source": [
    "train_data_1 = pd.read_csv('round1_train.txt','\\t')\n",
    "train_data_2 = pd.read_csv('round2_train.txt','\\t')\n",
    "test_A_data = pd.read_csv('round2_test_A.txt','\\t')\n",
    "test_B_data = pd.read_csv('round2_test_B.txt','\\t')\n",
    "data = pd.concat([train_data_1,train_data_2,test_A_data,test_B_data],axis=0,sort=False).reset_index(drop=True)\n",
    "del train_data_2,test_A_data,test_B_data\n",
    "data[['sid','label']].to_feather(feature_path+'sid&label.bin')\n",
    "gc.collect()"
   ]
  },
  {
   "cell_type": "code",
   "execution_count": 3,
   "metadata": {
    "scrolled": true
   },
   "outputs": [
    {
     "name": "stdout",
     "output_type": "stream",
     "text": [
      "category encode done\n",
      "create region done\n",
      "Wall time: 47.6 s\n"
     ]
    }
   ],
   "source": [
    "%time data = create_region(data)"
   ]
  },
  {
   "cell_type": "code",
   "execution_count": 4,
   "metadata": {
    "scrolled": true
   },
   "outputs": [
    {
     "name": "stdout",
     "output_type": "stream",
     "text": [
      "create empty feature done\n",
      "Wall time: 56.1 s\n"
     ]
    }
   ],
   "source": [
    "%time data = create_empty(data)"
   ]
  },
  {
   "cell_type": "code",
   "execution_count": 5,
   "metadata": {
    "scrolled": true
   },
   "outputs": [
    {
     "name": "stdout",
     "output_type": "stream",
     "text": [
      "category encode done\n",
      "Wall time: 1min 15s\n"
     ]
    }
   ],
   "source": [
    "%time data = create_ip(data)"
   ]
  },
  {
   "cell_type": "code",
   "execution_count": 6,
   "metadata": {},
   "outputs": [
    {
     "name": "stdout",
     "output_type": "stream",
     "text": [
      "category encode done\n",
      "create software done\n",
      "Wall time: 1min 32s\n"
     ]
    }
   ],
   "source": [
    "%time data = create_software(data)"
   ]
  },
  {
   "cell_type": "code",
   "execution_count": 7,
   "metadata": {
    "scrolled": true
   },
   "outputs": [
    {
     "name": "stdout",
     "output_type": "stream",
     "text": [
      "create time done\n",
      "Wall time: 1min 1s\n"
     ]
    }
   ],
   "source": [
    "%time data = create_time(data)"
   ]
  },
  {
   "cell_type": "code",
   "execution_count": 7,
   "metadata": {},
   "outputs": [
    {
     "name": "stdout",
     "output_type": "stream",
     "text": [
      "category encode done\n",
      "create hardware done\n",
      "Wall time: 32 s\n"
     ]
    }
   ],
   "source": [
    "%time data = create_hardware(data)"
   ]
  },
  {
   "cell_type": "code",
   "execution_count": 8,
   "metadata": {
    "scrolled": true
   },
   "outputs": [
    {
     "name": "stdout",
     "output_type": "stream",
     "text": [
      "category encode done\n",
      "create screen_feature done\n",
      "Wall time: 1min 2s\n"
     ]
    }
   ],
   "source": [
    "%time data = create_screen(data)"
   ]
  },
  {
   "cell_type": "code",
   "execution_count": 9,
   "metadata": {},
   "outputs": [
    {
     "name": "stdout",
     "output_type": "stream",
     "text": [
      "category encode done\n",
      "Wall time: 5.66 s\n",
      "category encode done\n",
      "Wall time: 35.9 s\n"
     ]
    }
   ],
   "source": [
    "%time data = create_media(data)\n",
    "%time data = create_md5(data)"
   ]
  },
  {
   "cell_type": "code",
   "execution_count": 10,
   "metadata": {},
   "outputs": [
    {
     "name": "stdout",
     "output_type": "stream",
     "text": [
      "Mem. usage decreased to 1312.26 Mb (30.6% reduction)\n",
      "Wall time: 5.34 s\n"
     ]
    }
   ],
   "source": [
    "%time data = reduce_mem_usage(data)"
   ]
  },
  {
   "cell_type": "code",
   "execution_count": 12,
   "metadata": {},
   "outputs": [],
   "source": [
    "data['pkgname&ver'] = data['pkgname'].astype(str)+'&'+data['ver'].astype(str)\n",
    "data['pkgname&ver&apptype'] = data['pkgname'].astype(str)+'&'+data['ver'].astype(str)+'&'+data['apptype'].astype(str)\n",
    "data['pkgname&ver&apptype&osv'] = data['pkgname'].astype(str)+'&'+data['ver'].astype(str)+'&'+data['apptype'].astype(str)+'&'+data['osv'].astype(str)\n",
    "data['pkgname&ver&apptype&osv&lan'] = data['pkgname'].astype(str)+'&'+data['ver'].astype(str)+'&'+data['apptype'].astype(str)+'&'+data['osv'].astype(str)+'&'+data['lan'].astype(str)\n",
    "\n",
    "data['adunitshowid&reqrealip'] = data['adunitshowid'].astype(str)+'&'+data['reqrealip'].astype(str)\n",
    "data['adunitshowid&reqrealip&pkgname'] = data['adunitshowid'].astype(str)+'&'+data['reqrealip'].astype(str)+'&'+data['pkgname'].astype(str)\n",
    "data['adunitshowid&reqrealip&pkgname&ver'] = data['adunitshowid'].astype(str)+'&'+data['reqrealip'].astype(str)+'&'+data['pkgname'].astype(str)+'&'+data['ver'].astype(str)\n",
    "data['adunitshowid&reqrealip&pkgname&ver&apptype'] = data['adunitshowid'].astype(str)+'&'+data['reqrealip'].astype(str)+'&'+data['pkgname'].astype(str)+'&'+data['ver'].astype(str)+'&'+data['apptype'].astype(str)"
   ]
  },
  {
   "cell_type": "code",
   "execution_count": 14,
   "metadata": {},
   "outputs": [
    {
     "data": {
      "text/plain": [
       "Index(['sid', 'label', 'pkgname', 'ver', 'adunitshowid', 'mediashowid',\n",
       "       'apptype', 'ip', 'city', 'province', 'reqrealip', 'adidmd5', 'imeimd5',\n",
       "       'idfamd5', 'openudidmd5', 'macmd5', 'dvctype', 'model', 'make', 'ntt',\n",
       "       'carrier', 'os', 'osv', 'orientation', 'lan', 'h', 'w', 'ppi',\n",
       "       'empty_count', 'ip1', 'ip2', 'ip3', 'reqrealip1', 'reqrealip2',\n",
       "       'reqrealip3', 'ip_equal', 'new_ntt', 'osv_summary', 'hour', 'minute',\n",
       "       'period', 'nginxtime-begin_time', 'big_model', 'model_equal_make',\n",
       "       'h_w_ratio', 'screen_area', 'size', 'px', 'creative_dpi'],\n",
       "      dtype='object')"
      ]
     },
     "execution_count": 14,
     "metadata": {},
     "output_type": "execute_result"
    }
   ],
   "source": [
    "data.columns"
   ]
  },
  {
   "cell_type": "code",
   "execution_count": 14,
   "metadata": {},
   "outputs": [
    {
     "name": "stdout",
     "output_type": "stream",
     "text": [
      "category encode done\n"
     ]
    }
   ],
   "source": [
    "data = create_category_encoder(data)\n",
    "data.to_feather(feature_path+'experiment.bin')"
   ]
  },
  {
   "cell_type": "code",
   "execution_count": 12,
   "metadata": {},
   "outputs": [
    {
     "data": {
      "text/plain": [
       "Index(['sid', 'label', 'pkgname', 'ver', 'adunitshowid', 'mediashowid',\n",
       "       'apptype', 'nginxtime', 'ip', 'city', 'province', 'reqrealip',\n",
       "       'adidmd5', 'imeimd5', 'idfamd5', 'openudidmd5', 'macmd5', 'dvctype',\n",
       "       'model', 'make', 'ntt', 'carrier', 'os', 'osv', 'orientation', 'lan',\n",
       "       'h', 'w', 'ppi', 'ip1', 'ip2', 'ip3', 'reqrealip1', 'reqrealip2',\n",
       "       'reqrealip3', 'ip_equal', 'new_ntt', 'osv_summary', 'big_model',\n",
       "       'model_equal_make', 'h_w_ratio', 'screen_area', 'size', 'px',\n",
       "       'creative_dpi'],\n",
       "      dtype='object')"
      ]
     },
     "execution_count": 12,
     "metadata": {},
     "output_type": "execute_result"
    }
   ],
   "source": [
    "data.columns"
   ]
  },
  {
   "cell_type": "code",
   "execution_count": null,
   "metadata": {},
   "outputs": [],
   "source": [
    "pair_left = [['pkgname','ver','mediashowid'],['apptype','ver','osv'],['reqrealip','pkgname'],['pkgname&adunitshowid'],['pkgname&adunitshowid&ver','lan','make']]\n",
    "pair_right = ['adunitshowid','pkgname','mediashowid','ver','osv']\n",
    "%time data = create_category_combine(data,pair_left,pair_right)"
   ]
  },
  {
   "cell_type": "code",
   "execution_count": 16,
   "metadata": {
    "scrolled": true
   },
   "outputs": [
    {
     "data": {
      "text/plain": [
       "['imeimd5',\n",
       " 'macmd5',\n",
       " 'adidmd5',\n",
       " 'ip',\n",
       " 'reqrealip',\n",
       " 'ip3',\n",
       " 'make',\n",
       " 'model',\n",
       " 'apptype',\n",
       " 'big_model']"
      ]
     },
     "execution_count": 16,
     "metadata": {},
     "output_type": "execute_result"
    }
   ],
   "source": [
    "counts_cols = ['imeimd5','macmd5','adidmd5','ip','reqrealip','ip3','make','model','apptype','big_model']\n",
    "counts_cols"
   ]
  },
  {
   "cell_type": "code",
   "execution_count": 17,
   "metadata": {},
   "outputs": [
    {
     "name": "stderr",
     "output_type": "stream",
     "text": [
      "100%|████████████████████████████████████████████████████████████████████████████████████████| 10/10 [00:13<00:00,  1.33s/it]\n"
     ]
    },
    {
     "name": "stdout",
     "output_type": "stream",
     "text": [
      "create single column counts done\n",
      "Wall time: 21.3 s\n"
     ]
    }
   ],
   "source": [
    "%time data = create_single_col_count(data,counts_cols)"
   ]
  },
  {
   "cell_type": "code",
   "execution_count": null,
   "metadata": {
    "scrolled": true
   },
   "outputs": [],
   "source": [
    "%time data = create_gragh(data)"
   ]
  },
  {
   "cell_type": "code",
   "execution_count": 11,
   "metadata": {
    "scrolled": true
   },
   "outputs": [
    {
     "name": "stderr",
     "output_type": "stream",
     "text": [
      "100%|████████████████████████████████████████████████████████████████████████████████████████| 45/45 [05:57<00:00,  7.94s/it]\n"
     ]
    },
    {
     "name": "stdout",
     "output_type": "stream",
     "text": [
      "75\n",
      "category encode done\n",
      "Mem. usage decreased to 1884.46 Mb (17.4% reduction)\n"
     ]
    },
    {
     "name": "stderr",
     "output_type": "stream",
     "text": [
      "\r",
      "0it [00:00, ?it/s]"
     ]
    },
    {
     "name": "stdout",
     "output_type": "stream",
     "text": [
      "category encode done\n",
      "Mem. usage decreased to 1914.98 Mb (0.0% reduction)\n"
     ]
    },
    {
     "name": "stderr",
     "output_type": "stream",
     "text": [
      "39it [03:10, 17.74s/it]"
     ]
    },
    {
     "name": "stdout",
     "output_type": "stream",
     "text": [
      "category encode done\n",
      "Mem. usage decreased to 2220.15 Mb (0.0% reduction)\n"
     ]
    },
    {
     "name": "stderr",
     "output_type": "stream",
     "text": [
      "59it [08:27, 17.71s/it]"
     ]
    },
    {
     "name": "stdout",
     "output_type": "stream",
     "text": [
      "category encode done\n",
      "Mem. usage decreased to 2662.66 Mb (0.6% reduction)\n"
     ]
    },
    {
     "name": "stderr",
     "output_type": "stream",
     "text": [
      "69it [12:27, 19.18s/it]"
     ]
    },
    {
     "name": "stdout",
     "output_type": "stream",
     "text": [
      "category encode done\n",
      "Mem. usage decreased to 2967.83 Mb (0.0% reduction)\n"
     ]
    },
    {
     "name": "stderr",
     "output_type": "stream",
     "text": [
      "79it [16:07, 18.94s/it]"
     ]
    },
    {
     "name": "stdout",
     "output_type": "stream",
     "text": [
      "category encode done\n",
      "Mem. usage decreased to 3273.01 Mb (0.0% reduction)\n"
     ]
    },
    {
     "name": "stderr",
     "output_type": "stream",
     "text": [
      "89it [19:34, 18.30s/it]"
     ]
    },
    {
     "name": "stdout",
     "output_type": "stream",
     "text": [
      "category encode done\n",
      "Mem. usage decreased to 3547.67 Mb (0.0% reduction)\n"
     ]
    },
    {
     "name": "stderr",
     "output_type": "stream",
     "text": [
      "99it [23:17, 18.82s/it]"
     ]
    },
    {
     "name": "stdout",
     "output_type": "stream",
     "text": [
      "category encode done\n",
      "Mem. usage decreased to 3852.84 Mb (0.0% reduction)\n"
     ]
    },
    {
     "name": "stderr",
     "output_type": "stream",
     "text": [
      "119it [28:50, 18.18s/it]"
     ]
    },
    {
     "name": "stdout",
     "output_type": "stream",
     "text": [
      "category encode done\n",
      "Mem. usage decreased to 4310.61 Mb (0.0% reduction)\n"
     ]
    },
    {
     "name": "stderr",
     "output_type": "stream",
     "text": [
      "129it [33:17, 19.69s/it]"
     ]
    },
    {
     "name": "stdout",
     "output_type": "stream",
     "text": [
      "category encode done\n",
      "Mem. usage decreased to 4615.78 Mb (0.0% reduction)\n"
     ]
    },
    {
     "name": "stderr",
     "output_type": "stream",
     "text": [
      "139it [37:29, 19.44s/it]"
     ]
    },
    {
     "name": "stdout",
     "output_type": "stream",
     "text": [
      "category encode done\n",
      "Mem. usage decreased to 4920.96 Mb (0.0% reduction)\n"
     ]
    },
    {
     "name": "stderr",
     "output_type": "stream",
     "text": [
      "149it [40:04, 21.50s/it]"
     ]
    },
    {
     "name": "stdout",
     "output_type": "stream",
     "text": [
      "category encode done\n",
      "Mem. usage decreased to 5073.55 Mb (0.0% reduction)\n"
     ]
    },
    {
     "name": "stderr",
     "output_type": "stream",
     "text": [
      "159it [43:33, 18.87s/it]"
     ]
    },
    {
     "name": "stdout",
     "output_type": "stream",
     "text": [
      "category encode done\n",
      "Mem. usage decreased to 5378.72 Mb (0.0% reduction)\n"
     ]
    },
    {
     "name": "stderr",
     "output_type": "stream",
     "text": [
      "169it [47:25, 19.04s/it]"
     ]
    },
    {
     "name": "stdout",
     "output_type": "stream",
     "text": [
      "category encode done\n",
      "Mem. usage decreased to 5683.90 Mb (0.0% reduction)\n"
     ]
    },
    {
     "name": "stderr",
     "output_type": "stream",
     "text": [
      "189it [51:20, 17.36s/it]"
     ]
    },
    {
     "name": "stdout",
     "output_type": "stream",
     "text": [
      "category encode done\n",
      "Mem. usage decreased to 5973.82 Mb (0.3% reduction)\n"
     ]
    },
    {
     "name": "stderr",
     "output_type": "stream",
     "text": [
      "199it [55:11, 19.23s/it]"
     ]
    },
    {
     "name": "stdout",
     "output_type": "stream",
     "text": [
      "category encode done\n",
      "Mem. usage decreased to 6263.73 Mb (0.2% reduction)\n"
     ]
    },
    {
     "name": "stderr",
     "output_type": "stream",
     "text": [
      "209it [58:55, 18.84s/it]"
     ]
    },
    {
     "name": "stdout",
     "output_type": "stream",
     "text": [
      "category encode done\n",
      "Mem. usage decreased to 6568.91 Mb (0.0% reduction)\n"
     ]
    },
    {
     "name": "stderr",
     "output_type": "stream",
     "text": [
      "210it [59:57, 17.13s/it]\n"
     ]
    },
    {
     "name": "stdout",
     "output_type": "stream",
     "text": [
      "category encode done\n",
      "Mem. usage decreased to 6568.91 Mb (0.0% reduction)\n",
      "Wall time: 1h 9min 58s\n"
     ]
    }
   ],
   "source": [
    "%time data = create_combine_gragh(data)"
   ]
  },
  {
   "cell_type": "code",
   "execution_count": 12,
   "metadata": {
    "scrolled": true
   },
   "outputs": [
    {
     "data": {
      "text/html": [
       "<div>\n",
       "<style scoped>\n",
       "    .dataframe tbody tr th:only-of-type {\n",
       "        vertical-align: middle;\n",
       "    }\n",
       "\n",
       "    .dataframe tbody tr th {\n",
       "        vertical-align: top;\n",
       "    }\n",
       "\n",
       "    .dataframe thead th {\n",
       "        text-align: right;\n",
       "    }\n",
       "</style>\n",
       "<table border=\"1\" class=\"dataframe\">\n",
       "  <thead>\n",
       "    <tr style=\"text-align: right;\">\n",
       "      <th></th>\n",
       "      <th>0</th>\n",
       "      <th>1</th>\n",
       "      <th>2</th>\n",
       "      <th>3</th>\n",
       "      <th>4</th>\n",
       "    </tr>\n",
       "  </thead>\n",
       "  <tbody>\n",
       "    <tr>\n",
       "      <th>sid</th>\n",
       "      <td>d7460126-e071-4979-9ee8-42f72777a28a-156009070...</td>\n",
       "      <td>b660d559-db97-4b5f-9bd2-2450cb89ce77-156005074...</td>\n",
       "      <td>f49a740e-66c3-4605-9b67-4d3079fe69cb-156008914...</td>\n",
       "      <td>fd60d096-f168-4540-b782-729d64d0fcc6-156006253...</td>\n",
       "      <td>a037b032-a5c7-40ea-9161-26b118b12406-156007938...</td>\n",
       "    </tr>\n",
       "    <tr>\n",
       "      <th>label</th>\n",
       "      <td>1</td>\n",
       "      <td>1</td>\n",
       "      <td>0</td>\n",
       "      <td>0</td>\n",
       "      <td>1</td>\n",
       "    </tr>\n",
       "    <tr>\n",
       "      <th>pkgname</th>\n",
       "      <td>1303</td>\n",
       "      <td>6813</td>\n",
       "      <td>680</td>\n",
       "      <td>6813</td>\n",
       "      <td>5917</td>\n",
       "    </tr>\n",
       "    <tr>\n",
       "      <th>ver</th>\n",
       "      <td>460</td>\n",
       "      <td>6826</td>\n",
       "      <td>1235</td>\n",
       "      <td>3612</td>\n",
       "      <td>1032</td>\n",
       "    </tr>\n",
       "    <tr>\n",
       "      <th>adunitshowid</th>\n",
       "      <td>555</td>\n",
       "      <td>63</td>\n",
       "      <td>514</td>\n",
       "      <td>606</td>\n",
       "      <td>159</td>\n",
       "    </tr>\n",
       "    <tr>\n",
       "      <th>mediashowid</th>\n",
       "      <td>276</td>\n",
       "      <td>71</td>\n",
       "      <td>327</td>\n",
       "      <td>328</td>\n",
       "      <td>110</td>\n",
       "    </tr>\n",
       "    <tr>\n",
       "      <th>apptype</th>\n",
       "      <td>42</td>\n",
       "      <td>62</td>\n",
       "      <td>38</td>\n",
       "      <td>33</td>\n",
       "      <td>71</td>\n",
       "    </tr>\n",
       "    <tr>\n",
       "      <th>ip</th>\n",
       "      <td>2932717</td>\n",
       "      <td>255434</td>\n",
       "      <td>3435819</td>\n",
       "      <td>3444555</td>\n",
       "      <td>3269012</td>\n",
       "    </tr>\n",
       "    <tr>\n",
       "      <th>province</th>\n",
       "      <td>0</td>\n",
       "      <td>0</td>\n",
       "      <td>0</td>\n",
       "      <td>0</td>\n",
       "      <td>0</td>\n",
       "    </tr>\n",
       "    <tr>\n",
       "      <th>reqrealip</th>\n",
       "      <td>20025</td>\n",
       "      <td>32515</td>\n",
       "      <td>31652</td>\n",
       "      <td>32464</td>\n",
       "      <td>31666</td>\n",
       "    </tr>\n",
       "    <tr>\n",
       "      <th>adidmd5</th>\n",
       "      <td>3484087</td>\n",
       "      <td>2438462</td>\n",
       "      <td>770340</td>\n",
       "      <td>2192396</td>\n",
       "      <td>3732216</td>\n",
       "    </tr>\n",
       "    <tr>\n",
       "      <th>imeimd5</th>\n",
       "      <td>3562398</td>\n",
       "      <td>2670591</td>\n",
       "      <td>1542363</td>\n",
       "      <td>102767</td>\n",
       "      <td>870744</td>\n",
       "    </tr>\n",
       "    <tr>\n",
       "      <th>macmd5</th>\n",
       "      <td>1399353</td>\n",
       "      <td>125665</td>\n",
       "      <td>747161</td>\n",
       "      <td>1957451</td>\n",
       "      <td>548924</td>\n",
       "    </tr>\n",
       "    <tr>\n",
       "      <th>dvctype</th>\n",
       "      <td>1</td>\n",
       "      <td>1</td>\n",
       "      <td>1</td>\n",
       "      <td>1</td>\n",
       "      <td>1</td>\n",
       "    </tr>\n",
       "    <tr>\n",
       "      <th>model</th>\n",
       "      <td>11720</td>\n",
       "      <td>1181</td>\n",
       "      <td>9090</td>\n",
       "      <td>6950</td>\n",
       "      <td>4098</td>\n",
       "    </tr>\n",
       "    <tr>\n",
       "      <th>make</th>\n",
       "      <td>1964</td>\n",
       "      <td>816</td>\n",
       "      <td>1401</td>\n",
       "      <td>496</td>\n",
       "      <td>816</td>\n",
       "    </tr>\n",
       "    <tr>\n",
       "      <th>ntt</th>\n",
       "      <td>2</td>\n",
       "      <td>5</td>\n",
       "      <td>2</td>\n",
       "      <td>6</td>\n",
       "      <td>2</td>\n",
       "    </tr>\n",
       "    <tr>\n",
       "      <th>carrier</th>\n",
       "      <td>1</td>\n",
       "      <td>0</td>\n",
       "      <td>1</td>\n",
       "      <td>0</td>\n",
       "      <td>1</td>\n",
       "    </tr>\n",
       "    <tr>\n",
       "      <th>osv</th>\n",
       "      <td>199</td>\n",
       "      <td>208</td>\n",
       "      <td>199</td>\n",
       "      <td>144</td>\n",
       "      <td>208</td>\n",
       "    </tr>\n",
       "    <tr>\n",
       "      <th>lan</th>\n",
       "      <td>46</td>\n",
       "      <td>6</td>\n",
       "      <td>46</td>\n",
       "      <td>6</td>\n",
       "      <td>46</td>\n",
       "    </tr>\n",
       "    <tr>\n",
       "      <th>h</th>\n",
       "      <td>2340</td>\n",
       "      <td>1080</td>\n",
       "      <td>2196</td>\n",
       "      <td>1069.78</td>\n",
       "      <td>2244</td>\n",
       "    </tr>\n",
       "    <tr>\n",
       "      <th>w</th>\n",
       "      <td>1080</td>\n",
       "      <td>2040</td>\n",
       "      <td>1080</td>\n",
       "      <td>653</td>\n",
       "      <td>1080</td>\n",
       "    </tr>\n",
       "    <tr>\n",
       "      <th>empty_count</th>\n",
       "      <td>4</td>\n",
       "      <td>8</td>\n",
       "      <td>4</td>\n",
       "      <td>12</td>\n",
       "      <td>5</td>\n",
       "    </tr>\n",
       "    <tr>\n",
       "      <th>ip3</th>\n",
       "      <td>267850</td>\n",
       "      <td>24129</td>\n",
       "      <td>317326</td>\n",
       "      <td>317366</td>\n",
       "      <td>292632</td>\n",
       "    </tr>\n",
       "    <tr>\n",
       "      <th>osv_summary</th>\n",
       "      <td>8</td>\n",
       "      <td>9</td>\n",
       "      <td>8</td>\n",
       "      <td>7</td>\n",
       "      <td>9</td>\n",
       "    </tr>\n",
       "    <tr>\n",
       "      <th>h_w_ratio</th>\n",
       "      <td>2.16667</td>\n",
       "      <td>0.529412</td>\n",
       "      <td>2.03333</td>\n",
       "      <td>1.63825</td>\n",
       "      <td>2.07778</td>\n",
       "    </tr>\n",
       "    <tr>\n",
       "      <th>size</th>\n",
       "      <td>1.01465</td>\n",
       "      <td>0.908758</td>\n",
       "      <td>0.963467</td>\n",
       "      <td>0.493437</td>\n",
       "      <td>0.98046</td>\n",
       "    </tr>\n",
       "    <tr>\n",
       "      <th>px</th>\n",
       "      <td>3.04395</td>\n",
       "      <td>123.734</td>\n",
       "      <td>23.8815</td>\n",
       "      <td>69.7596</td>\n",
       "      <td>0</td>\n",
       "    </tr>\n",
       "    <tr>\n",
       "      <th>creative_dpi</th>\n",
       "      <td>3979</td>\n",
       "      <td>434</td>\n",
       "      <td>3801</td>\n",
       "      <td>264</td>\n",
       "      <td>3871</td>\n",
       "    </tr>\n",
       "    <tr>\n",
       "      <th>device_info</th>\n",
       "      <td>1746</td>\n",
       "      <td>2780</td>\n",
       "      <td>1746</td>\n",
       "      <td>3124</td>\n",
       "      <td>1807</td>\n",
       "    </tr>\n",
       "    <tr>\n",
       "      <th>...</th>\n",
       "      <td>...</td>\n",
       "      <td>...</td>\n",
       "      <td>...</td>\n",
       "      <td>...</td>\n",
       "      <td>...</td>\n",
       "    </tr>\n",
       "    <tr>\n",
       "      <th>creative_dpi&amp;pkgname&amp;apptype&amp;device_info</th>\n",
       "      <td>303308</td>\n",
       "      <td>344863</td>\n",
       "      <td>261792</td>\n",
       "      <td>128721</td>\n",
       "      <td>274504</td>\n",
       "    </tr>\n",
       "    <tr>\n",
       "      <th>creative_dpi&amp;ver&amp;osv&amp;apptype</th>\n",
       "      <td>139208</td>\n",
       "      <td>149516</td>\n",
       "      <td>120939</td>\n",
       "      <td>53882</td>\n",
       "      <td>128204</td>\n",
       "    </tr>\n",
       "    <tr>\n",
       "      <th>creative_dpi&amp;ver&amp;osv&amp;device_info</th>\n",
       "      <td>387832</td>\n",
       "      <td>416110</td>\n",
       "      <td>318315</td>\n",
       "      <td>133939</td>\n",
       "      <td>341580</td>\n",
       "    </tr>\n",
       "    <tr>\n",
       "      <th>creative_dpi&amp;ver&amp;apptype&amp;device_info</th>\n",
       "      <td>350000</td>\n",
       "      <td>377030</td>\n",
       "      <td>282288</td>\n",
       "      <td>117163</td>\n",
       "      <td>305712</td>\n",
       "    </tr>\n",
       "    <tr>\n",
       "      <th>creative_dpi&amp;osv&amp;apptype&amp;device_info</th>\n",
       "      <td>173267</td>\n",
       "      <td>188719</td>\n",
       "      <td>149220</td>\n",
       "      <td>65340</td>\n",
       "      <td>160261</td>\n",
       "    </tr>\n",
       "    <tr>\n",
       "      <th>mediashowid&amp;pkgname&amp;ver&amp;osv</th>\n",
       "      <td>39031</td>\n",
       "      <td>79403</td>\n",
       "      <td>48112</td>\n",
       "      <td>48405</td>\n",
       "      <td>616</td>\n",
       "    </tr>\n",
       "    <tr>\n",
       "      <th>mediashowid&amp;pkgname&amp;ver&amp;apptype</th>\n",
       "      <td>8457</td>\n",
       "      <td>15995</td>\n",
       "      <td>10882</td>\n",
       "      <td>10942</td>\n",
       "      <td>140</td>\n",
       "    </tr>\n",
       "    <tr>\n",
       "      <th>mediashowid&amp;pkgname&amp;ver&amp;device_info</th>\n",
       "      <td>129688</td>\n",
       "      <td>203254</td>\n",
       "      <td>147848</td>\n",
       "      <td>148584</td>\n",
       "      <td>2318</td>\n",
       "    </tr>\n",
       "    <tr>\n",
       "      <th>mediashowid&amp;pkgname&amp;osv&amp;apptype</th>\n",
       "      <td>21150</td>\n",
       "      <td>45450</td>\n",
       "      <td>22024</td>\n",
       "      <td>22038</td>\n",
       "      <td>189</td>\n",
       "    </tr>\n",
       "    <tr>\n",
       "      <th>mediashowid&amp;pkgname&amp;osv&amp;device_info</th>\n",
       "      <td>120786</td>\n",
       "      <td>180474</td>\n",
       "      <td>128037</td>\n",
       "      <td>128148</td>\n",
       "      <td>2158</td>\n",
       "    </tr>\n",
       "    <tr>\n",
       "      <th>mediashowid&amp;pkgname&amp;apptype&amp;device_info</th>\n",
       "      <td>87019</td>\n",
       "      <td>127270</td>\n",
       "      <td>91614</td>\n",
       "      <td>91732</td>\n",
       "      <td>1298</td>\n",
       "    </tr>\n",
       "    <tr>\n",
       "      <th>mediashowid&amp;ver&amp;osv&amp;apptype</th>\n",
       "      <td>24263</td>\n",
       "      <td>41889</td>\n",
       "      <td>32690</td>\n",
       "      <td>32983</td>\n",
       "      <td>616</td>\n",
       "    </tr>\n",
       "    <tr>\n",
       "      <th>mediashowid&amp;ver&amp;osv&amp;device_info</th>\n",
       "      <td>109345</td>\n",
       "      <td>170418</td>\n",
       "      <td>132862</td>\n",
       "      <td>133688</td>\n",
       "      <td>3336</td>\n",
       "    </tr>\n",
       "    <tr>\n",
       "      <th>mediashowid&amp;ver&amp;apptype&amp;device_info</th>\n",
       "      <td>81585</td>\n",
       "      <td>126541</td>\n",
       "      <td>99596</td>\n",
       "      <td>100332</td>\n",
       "      <td>2318</td>\n",
       "    </tr>\n",
       "    <tr>\n",
       "      <th>mediashowid&amp;osv&amp;apptype&amp;device_info</th>\n",
       "      <td>22587</td>\n",
       "      <td>41134</td>\n",
       "      <td>29326</td>\n",
       "      <td>29437</td>\n",
       "      <td>2158</td>\n",
       "    </tr>\n",
       "    <tr>\n",
       "      <th>adunitshowid&amp;pkgname&amp;ver&amp;osv</th>\n",
       "      <td>68875</td>\n",
       "      <td>75418</td>\n",
       "      <td>53974</td>\n",
       "      <td>73826</td>\n",
       "      <td>7180</td>\n",
       "    </tr>\n",
       "    <tr>\n",
       "      <th>adunitshowid&amp;pkgname&amp;ver&amp;apptype</th>\n",
       "      <td>16917</td>\n",
       "      <td>18614</td>\n",
       "      <td>13542</td>\n",
       "      <td>18292</td>\n",
       "      <td>2091</td>\n",
       "    </tr>\n",
       "    <tr>\n",
       "      <th>adunitshowid&amp;pkgname&amp;ver&amp;device_info</th>\n",
       "      <td>161098</td>\n",
       "      <td>177133</td>\n",
       "      <td>119720</td>\n",
       "      <td>172808</td>\n",
       "      <td>18213</td>\n",
       "    </tr>\n",
       "    <tr>\n",
       "      <th>adunitshowid&amp;pkgname&amp;osv&amp;apptype</th>\n",
       "      <td>31033</td>\n",
       "      <td>32120</td>\n",
       "      <td>20317</td>\n",
       "      <td>31764</td>\n",
       "      <td>730</td>\n",
       "    </tr>\n",
       "    <tr>\n",
       "      <th>adunitshowid&amp;pkgname&amp;osv&amp;device_info</th>\n",
       "      <td>113893</td>\n",
       "      <td>120620</td>\n",
       "      <td>68796</td>\n",
       "      <td>118015</td>\n",
       "      <td>5076</td>\n",
       "    </tr>\n",
       "    <tr>\n",
       "      <th>adunitshowid&amp;pkgname&amp;apptype&amp;device_info</th>\n",
       "      <td>82575</td>\n",
       "      <td>87184</td>\n",
       "      <td>48550</td>\n",
       "      <td>85471</td>\n",
       "      <td>3434</td>\n",
       "    </tr>\n",
       "    <tr>\n",
       "      <th>adunitshowid&amp;ver&amp;osv&amp;apptype</th>\n",
       "      <td>47590</td>\n",
       "      <td>54081</td>\n",
       "      <td>40325</td>\n",
       "      <td>52508</td>\n",
       "      <td>7169</td>\n",
       "    </tr>\n",
       "    <tr>\n",
       "      <th>adunitshowid&amp;ver&amp;osv&amp;device_info</th>\n",
       "      <td>158085</td>\n",
       "      <td>178192</td>\n",
       "      <td>129242</td>\n",
       "      <td>172627</td>\n",
       "      <td>21960</td>\n",
       "    </tr>\n",
       "    <tr>\n",
       "      <th>adunitshowid&amp;ver&amp;apptype&amp;device_info</th>\n",
       "      <td>124056</td>\n",
       "      <td>139993</td>\n",
       "      <td>102319</td>\n",
       "      <td>135737</td>\n",
       "      <td>18208</td>\n",
       "    </tr>\n",
       "    <tr>\n",
       "      <th>adunitshowid&amp;osv&amp;apptype&amp;device_info</th>\n",
       "      <td>43793</td>\n",
       "      <td>50387</td>\n",
       "      <td>39867</td>\n",
       "      <td>47868</td>\n",
       "      <td>5070</td>\n",
       "    </tr>\n",
       "    <tr>\n",
       "      <th>pkgname&amp;ver&amp;osv&amp;apptype</th>\n",
       "      <td>3265</td>\n",
       "      <td>68759</td>\n",
       "      <td>54266</td>\n",
       "      <td>63413</td>\n",
       "      <td>46485</td>\n",
       "    </tr>\n",
       "    <tr>\n",
       "      <th>pkgname&amp;ver&amp;osv&amp;device_info</th>\n",
       "      <td>13265</td>\n",
       "      <td>241878</td>\n",
       "      <td>191497</td>\n",
       "      <td>218095</td>\n",
       "      <td>163898</td>\n",
       "    </tr>\n",
       "    <tr>\n",
       "      <th>pkgname&amp;ver&amp;apptype&amp;device_info</th>\n",
       "      <td>9613</td>\n",
       "      <td>180873</td>\n",
       "      <td>139966</td>\n",
       "      <td>162026</td>\n",
       "      <td>119859</td>\n",
       "    </tr>\n",
       "    <tr>\n",
       "      <th>pkgname&amp;osv&amp;apptype&amp;device_info</th>\n",
       "      <td>9259</td>\n",
       "      <td>160854</td>\n",
       "      <td>149140</td>\n",
       "      <td>154311</td>\n",
       "      <td>125473</td>\n",
       "    </tr>\n",
       "    <tr>\n",
       "      <th>ver&amp;osv&amp;apptype&amp;device_info</th>\n",
       "      <td>92234</td>\n",
       "      <td>149738</td>\n",
       "      <td>9502</td>\n",
       "      <td>59442</td>\n",
       "      <td>2052</td>\n",
       "    </tr>\n",
       "  </tbody>\n",
       "</table>\n",
       "<p>230 rows × 5 columns</p>\n",
       "</div>"
      ],
      "text/plain": [
       "                                                                                 0  \\\n",
       "sid                              d7460126-e071-4979-9ee8-42f72777a28a-156009070...   \n",
       "label                                                                            1   \n",
       "pkgname                                                                       1303   \n",
       "ver                                                                            460   \n",
       "adunitshowid                                                                   555   \n",
       "...                                                                            ...   \n",
       "pkgname&ver&osv&apptype                                                       3265   \n",
       "pkgname&ver&osv&device_info                                                  13265   \n",
       "pkgname&ver&apptype&device_info                                               9613   \n",
       "pkgname&osv&apptype&device_info                                               9259   \n",
       "ver&osv&apptype&device_info                                                  92234   \n",
       "\n",
       "                                                                                 1  \\\n",
       "sid                              b660d559-db97-4b5f-9bd2-2450cb89ce77-156005074...   \n",
       "label                                                                            1   \n",
       "pkgname                                                                       6813   \n",
       "ver                                                                           6826   \n",
       "adunitshowid                                                                    63   \n",
       "...                                                                            ...   \n",
       "pkgname&ver&osv&apptype                                                      68759   \n",
       "pkgname&ver&osv&device_info                                                 241878   \n",
       "pkgname&ver&apptype&device_info                                             180873   \n",
       "pkgname&osv&apptype&device_info                                             160854   \n",
       "ver&osv&apptype&device_info                                                 149738   \n",
       "\n",
       "                                                                                 2  \\\n",
       "sid                              f49a740e-66c3-4605-9b67-4d3079fe69cb-156008914...   \n",
       "label                                                                            0   \n",
       "pkgname                                                                        680   \n",
       "ver                                                                           1235   \n",
       "adunitshowid                                                                   514   \n",
       "...                                                                            ...   \n",
       "pkgname&ver&osv&apptype                                                      54266   \n",
       "pkgname&ver&osv&device_info                                                 191497   \n",
       "pkgname&ver&apptype&device_info                                             139966   \n",
       "pkgname&osv&apptype&device_info                                             149140   \n",
       "ver&osv&apptype&device_info                                                   9502   \n",
       "\n",
       "                                                                                 3  \\\n",
       "sid                              fd60d096-f168-4540-b782-729d64d0fcc6-156006253...   \n",
       "label                                                                            0   \n",
       "pkgname                                                                       6813   \n",
       "ver                                                                           3612   \n",
       "adunitshowid                                                                   606   \n",
       "...                                                                            ...   \n",
       "pkgname&ver&osv&apptype                                                      63413   \n",
       "pkgname&ver&osv&device_info                                                 218095   \n",
       "pkgname&ver&apptype&device_info                                             162026   \n",
       "pkgname&osv&apptype&device_info                                             154311   \n",
       "ver&osv&apptype&device_info                                                  59442   \n",
       "\n",
       "                                                                                 4  \n",
       "sid                              a037b032-a5c7-40ea-9161-26b118b12406-156007938...  \n",
       "label                                                                            1  \n",
       "pkgname                                                                       5917  \n",
       "ver                                                                           1032  \n",
       "adunitshowid                                                                   159  \n",
       "...                                                                            ...  \n",
       "pkgname&ver&osv&apptype                                                      46485  \n",
       "pkgname&ver&osv&device_info                                                 163898  \n",
       "pkgname&ver&apptype&device_info                                             119859  \n",
       "pkgname&osv&apptype&device_info                                             125473  \n",
       "ver&osv&apptype&device_info                                                   2052  \n",
       "\n",
       "[230 rows x 5 columns]"
      ]
     },
     "execution_count": 12,
     "metadata": {},
     "output_type": "execute_result"
    }
   ],
   "source": [
    "data.head().T"
   ]
  },
  {
   "cell_type": "code",
   "execution_count": null,
   "metadata": {
    "scrolled": true
   },
   "outputs": [],
   "source": [
    "%time data = create_category_encoder(data,'catboost',cate_cols)"
   ]
  },
  {
   "cell_type": "code",
   "execution_count": null,
   "metadata": {},
   "outputs": [],
   "source": [
    "data.to_feather(feature_path+'combine_gragh.bin')"
   ]
  },
  {
   "cell_type": "code",
   "execution_count": 18,
   "metadata": {},
   "outputs": [],
   "source": [
    "combine_gragh_file_list = ['combine_gragh.bin','single_col_count_ft.bin']\n",
    "basic_file_list = ['empty_ft.bin','hardware_ft.bin','ip_ft.bin','md5_ft.bin','media_ft.bin','region_ft.bin',\n",
    "                   'screen_ft.bin','sid&label.bin','single_col_count_ft.bin','software_ft.bin','time_ft.bin']"
   ]
  },
  {
   "cell_type": "code",
   "execution_count": 19,
   "metadata": {
    "scrolled": true
   },
   "outputs": [
    {
     "name": "stderr",
     "output_type": "stream",
     "text": [
      "[Parallel(n_jobs=-1)]: Using backend LokyBackend with 12 concurrent workers.\n",
      "[Parallel(n_jobs=-1)]: Done   2 out of  11 | elapsed:    2.3s remaining:   10.6s\n",
      "[Parallel(n_jobs=-1)]: Done   4 out of  11 | elapsed:    2.8s remaining:    5.0s\n",
      "[Parallel(n_jobs=-1)]: Done   6 out of  11 | elapsed:    3.9s remaining:    3.2s\n",
      "[Parallel(n_jobs=-1)]: Done   8 out of  11 | elapsed:    5.1s remaining:    1.8s\n",
      "[Parallel(n_jobs=-1)]: Done  11 out of  11 | elapsed:   11.7s finished\n"
     ]
    },
    {
     "name": "stdout",
     "output_type": "stream",
     "text": [
      "11\n",
      "Wall time: 45.5 s\n"
     ]
    }
   ],
   "source": [
    "del data\n",
    "gc.collect()\n",
    "%time data = combine_feature_feather(basic_file_list)"
   ]
  },
  {
   "cell_type": "code",
   "execution_count": 20,
   "metadata": {},
   "outputs": [
    {
     "name": "stdout",
     "output_type": "stream",
     "text": [
      "Mem. usage decreased to 1403.81 Mb (41.8% reduction)\n",
      "Wall time: 7.2 s\n"
     ]
    }
   ],
   "source": [
    "%time data = reduce_mem_usage(data)"
   ]
  }
 ],
 "metadata": {
  "kernelspec": {
   "display_name": "Python 3",
   "language": "python",
   "name": "python3"
  },
  "language_info": {
   "codemirror_mode": {
    "name": "ipython",
    "version": 3
   },
   "file_extension": ".py",
   "mimetype": "text/x-python",
   "name": "python",
   "nbconvert_exporter": "python",
   "pygments_lexer": "ipython3",
   "version": "3.6.5"
  }
 },
 "nbformat": 4,
 "nbformat_minor": 2
}
